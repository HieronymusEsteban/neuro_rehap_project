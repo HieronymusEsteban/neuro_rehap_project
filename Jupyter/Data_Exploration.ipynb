{
 "cells": [
  {
   "cell_type": "code",
   "execution_count": null,
   "id": "f41f1255-b1b0-4aeb-93d7-681058931e4e",
   "metadata": {},
   "outputs": [],
   "source": [
    "import pandas as pd\n",
    "import numpy as np\n",
    "import scipy.io as sio\n",
    "import os\n",
    "import re\n",
    "import matplotlib.pyplot as plt\n",
    "import source.transform_data as trs\n",
    "from pathlib import Path\n",
    "from scipy.cluster.hierarchy import dendrogram, linkage\n",
    "from scipy.spatial.distance import pdist\n",
    "from sklearn.cluster import AgglomerativeClustering \n",
    "from sklearn.cluster import KMeans "
   ]
  },
  {
   "cell_type": "code",
   "execution_count": null,
   "id": "4022ca77-3e74-4ea5-b723-017fbdd7ef97",
   "metadata": {},
   "outputs": [],
   "source": [
    "path_to_data = Path('Data')"
   ]
  },
  {
   "cell_type": "code",
   "execution_count": null,
   "id": "5e94a8f6-cf5e-4fc9-9482-ad7c2857ef15",
   "metadata": {},
   "outputs": [],
   "source": [
    "data_wide = pd.read_csv(path_to_data/'data_table_wide.csv', index_col=None)"
   ]
  },
  {
   "cell_type": "code",
   "execution_count": null,
   "id": "3fe8da70-04fd-4563-a6d7-5e2def7d76b8",
   "metadata": {},
   "outputs": [],
   "source": [
    "data_wide.head()"
   ]
  },
  {
   "cell_type": "markdown",
   "id": "d18f87ef-3e2b-4f0d-8b40-90d89e26ddeb",
   "metadata": {},
   "source": [
    "### Number of walking bouts before vs after rehab:"
   ]
  },
  {
   "cell_type": "code",
   "execution_count": null,
   "id": "f5c22217-d8c3-43bf-9e81-fbd1c5ac0544",
   "metadata": {},
   "outputs": [],
   "source": [
    "data_wide.value_counts('exp_phase_id')"
   ]
  },
  {
   "cell_type": "code",
   "execution_count": null,
   "id": "9132aedf-1011-4a70-b0ee-639967749edb",
   "metadata": {},
   "outputs": [],
   "source": [
    "data_wide.value_counts('exp_phase_descr')"
   ]
  },
  {
   "cell_type": "markdown",
   "id": "d50aa316-0f80-4e80-a0fb-b80d74d264df",
   "metadata": {},
   "source": [
    "### It looks like most people stopped recording after 8 hours:"
   ]
  },
  {
   "cell_type": "code",
   "execution_count": null,
   "id": "ae11008e-817a-4aae-9f3a-ac46a1114def",
   "metadata": {},
   "outputs": [],
   "source": [
    "plt.scatter(x='time_stamps_hours', y='speed_mean', c= 'morning_afternoon', data=data_wide)\n",
    "plt.xlabel(\"hours after beginning of recording\")\n",
    "plt.ylabel(\"mean speed during walking bout\")"
   ]
  },
  {
   "cell_type": "markdown",
   "id": "f2017489-01df-42db-84a2-33afe72c9d88",
   "metadata": {},
   "source": [
    "#### Is it appropriate to only consider walking bouts within 8 hours and disregard later walking bouts? If so, we could subdivide the 8 hours or recording into two phases of 4 hours each (morning and afternoon)."
   ]
  },
  {
   "cell_type": "markdown",
   "id": "e9e1fa21-1e28-4cfa-80bd-7219e095db87",
   "metadata": {},
   "source": [
    "### Number of walking bouts morning vs afternoon:"
   ]
  },
  {
   "cell_type": "code",
   "execution_count": null,
   "id": "9dbd5b13-b454-43f2-a441-1d7828bc7675",
   "metadata": {},
   "outputs": [],
   "source": [
    "data_wide.value_counts('morning_afternoon')"
   ]
  },
  {
   "cell_type": "markdown",
   "id": "f71c3a60-1100-429a-9678-ca127a36d046",
   "metadata": {},
   "source": [
    "### Correlation matrix:"
   ]
  },
  {
   "cell_type": "code",
   "execution_count": null,
   "id": "8b2f676f-fc6f-487a-a8fc-2ca2eae232d0",
   "metadata": {},
   "outputs": [],
   "source": [
    "data_wide.head()\n",
    "data_wide_for_corr = data_wide.copy()"
   ]
  },
  {
   "cell_type": "code",
   "execution_count": null,
   "id": "ec201217-1156-47eb-91bb-13ba5557aad5",
   "metadata": {},
   "outputs": [],
   "source": [
    "data_wide_for_corr = data_wide_for_corr.drop('time_stamps', axis=1)\n",
    "data_wide_for_corr = data_wide_for_corr.drop('morning_afternoon', axis=1)\n",
    "data_wide_for_corr.head()"
   ]
  },
  {
   "cell_type": "code",
   "execution_count": null,
   "id": "3969b29c-3665-4705-919a-ec4dcf08d32c",
   "metadata": {},
   "outputs": [],
   "source": [
    "data_wide_num = data_wide_for_corr.iloc[:,5:].copy()\n",
    "\n",
    "corr_matrix = data_wide_num.corr(method='spearman')\n",
    "\n",
    "plt.figure(figsize=(2, 2))\n",
    " \n",
    "# Plot the matrix\n",
    "plt.matshow(corr_matrix, cmap=\"viridis\")\n",
    " \n",
    "# Set ticks\n",
    "plt.xticks(range(len(corr_matrix.columns)), corr_matrix.columns, rotation=\"vertical\")\n",
    "plt.yticks(range(len(corr_matrix.columns)), corr_matrix.columns)\n",
    " \n",
    "# Add color bar\n",
    "plt.colorbar()\n",
    " \n",
    "# Add text annotations\n",
    "for i in range(len(corr_matrix.columns)):\n",
    "    for j in range(len(corr_matrix.columns)):\n",
    "        plt.text(j, i, f\"{corr_matrix.iloc[i, j]:.2f}\", ha=\"center\", va=\"center\", color=\"w\")\n",
    "plt.show()"
   ]
  },
  {
   "cell_type": "code",
   "execution_count": null,
   "id": "f9ccddf9-6373-4972-9e43-76573842919f",
   "metadata": {},
   "outputs": [],
   "source": [
    "corr_matrix"
   ]
  },
  {
   "cell_type": "code",
   "execution_count": null,
   "id": "c0fe191b-58af-46a1-88fd-60a1e8289195",
   "metadata": {},
   "outputs": [],
   "source": []
  },
  {
   "cell_type": "code",
   "execution_count": null,
   "id": "67413e47-2584-48ee-ab9b-1303b0f17f5c",
   "metadata": {},
   "outputs": [],
   "source": [
    "#plt.figure(figsize=(20, 20)) \n",
    "\n",
    "plt.scatter(x='time_stamps_hours', y='speed_mean', c= 'WB_time', data=data_wide, label='WB_time')\n",
    "\n",
    "# Add legend\n",
    "plt.legend(title='WB_time')\n",
    "\n",
    "# Optional: Label axes and title\n",
    "plt.xlabel('Time Stamps (Hours)')\n",
    "plt.ylabel('Speed Mean')\n",
    "plt.title('Speed Mean vs Time Stamps')\n",
    "\n",
    "# Show the plot\n",
    "plt.show()"
   ]
  },
  {
   "cell_type": "code",
   "execution_count": null,
   "id": "d59709db-116d-4936-b714-f22e630d2a90",
   "metadata": {},
   "outputs": [],
   "source": []
  },
  {
   "cell_type": "code",
   "execution_count": null,
   "id": "4b822424-83ba-44ae-8d20-937ff223dee3",
   "metadata": {},
   "outputs": [],
   "source": []
  },
  {
   "cell_type": "markdown",
   "id": "d591fdbc-f84d-4736-b47b-074dd0ac464d",
   "metadata": {},
   "source": [
    "### Frequency of walking bouts over time:"
   ]
  },
  {
   "cell_type": "code",
   "execution_count": null,
   "id": "1bf194fd-c2e6-41da-9a1e-cca7f3a06d1f",
   "metadata": {},
   "outputs": [],
   "source": [
    "data_wide.hist('time_stamps_hours')\n",
    "plt.xlabel(\"hours after beginning of recording\")\n",
    "plt.ylabel(\"frequency of walking bouts\")"
   ]
  },
  {
   "cell_type": "markdown",
   "id": "8094783b-b14d-4526-8e70-7f210a500e6c",
   "metadata": {},
   "source": [
    "### Frequency of walking bouts over time before vs after rehab:"
   ]
  },
  {
   "cell_type": "code",
   "execution_count": null,
   "id": "3cb13e12-3254-42df-98e3-73d8cea3fea3",
   "metadata": {},
   "outputs": [],
   "source": [
    "data_wide_before_rh = data_wide[data_wide.exp_phase_id == 'T2'].copy()\n",
    "data_wide_after_rh = data_wide[data_wide.exp_phase_id == 'T3'].copy()"
   ]
  },
  {
   "cell_type": "code",
   "execution_count": null,
   "id": "0bc5aced-8219-43dc-ac23-57baa99539a2",
   "metadata": {},
   "outputs": [],
   "source": [
    "data_wide_before_rh.hist('time_stamps_hours')\n",
    "plt.xlabel(\"hours after beginning of recording\")\n",
    "plt.ylabel(\"frequency of walking bouts\")\n",
    "plt.title('Frequency of walking bouts before rehab:')"
   ]
  },
  {
   "cell_type": "code",
   "execution_count": null,
   "id": "8ca2cb2b-eedd-49a5-b614-919669dc4c74",
   "metadata": {},
   "outputs": [],
   "source": [
    "data_wide_after_rh.hist('time_stamps_hours')\n",
    "plt.xlabel(\"hours after beginning of recording\")\n",
    "plt.ylabel(\"frequency of walking bouts\")\n",
    "plt.title('Frequency of walking bouts after rehab:')"
   ]
  },
  {
   "cell_type": "markdown",
   "id": "36ed58e4-4ce1-4c43-ab24-6fd0baf7b744",
   "metadata": {},
   "source": [
    "#### There seems to be a slight decrease in frequency of walking bouts over time during recording."
   ]
  },
  {
   "cell_type": "code",
   "execution_count": null,
   "id": "e86237a9-35ac-4975-aea9-38f91b206ffd",
   "metadata": {},
   "outputs": [],
   "source": []
  },
  {
   "cell_type": "markdown",
   "id": "34f37cf7-d9e0-448a-870d-4adb44aeb6e6",
   "metadata": {},
   "source": [
    "### More walking bouts before than after rehab: Is this possible?"
   ]
  },
  {
   "cell_type": "code",
   "execution_count": null,
   "id": "1f56f6ad-fc2e-471a-8463-1a2255742afe",
   "metadata": {},
   "outputs": [],
   "source": [
    "print(data_wide_before_rh.shape)\n",
    "print(data_wide_after_rh.shape)"
   ]
  },
  {
   "cell_type": "code",
   "execution_count": null,
   "id": "1910e6cb-0844-4a62-9634-20ff8c070758",
   "metadata": {},
   "outputs": [],
   "source": [
    "print(len(set(data_wide_before_rh.file_name)))\n",
    "print(len(set(data_wide_after_rh.file_name)))"
   ]
  },
  {
   "cell_type": "code",
   "execution_count": null,
   "id": "c0a52bfc-3376-4b8b-9dfb-77996041e473",
   "metadata": {},
   "outputs": [],
   "source": []
  },
  {
   "cell_type": "code",
   "execution_count": null,
   "id": "c45d188a-15c1-4f65-9e98-d04818641140",
   "metadata": {},
   "outputs": [],
   "source": [
    "data_wide.head()"
   ]
  },
  {
   "cell_type": "code",
   "execution_count": null,
   "id": "c60e73da-e63b-44c6-a97c-9ca67e6935ea",
   "metadata": {},
   "outputs": [],
   "source": []
  },
  {
   "cell_type": "markdown",
   "id": "a9119288-48db-4f72-b348-b389e7572678",
   "metadata": {},
   "source": [
    "### K-means clustering to check if I stumble over anything interesting:"
   ]
  },
  {
   "cell_type": "code",
   "execution_count": null,
   "id": "b1f2ef25-86b7-4b30-9738-d3a7cbd344cf",
   "metadata": {},
   "outputs": [],
   "source": [
    "numerical_var_names = list(data_wide.iloc[:,8:].columns)"
   ]
  },
  {
   "cell_type": "code",
   "execution_count": null,
   "id": "3be0f82f-2bbd-43d7-98ff-93c386316a4b",
   "metadata": {},
   "outputs": [],
   "source": [
    "numerical_variables = data_wide[numerical_var_names]\n",
    "numerical_variables"
   ]
  },
  {
   "cell_type": "code",
   "execution_count": null,
   "id": "47fc0e3b-c135-48cd-9ae1-be7b1f4d3ad0",
   "metadata": {},
   "outputs": [],
   "source": [
    "ngait_cycles = list(data_wide['Ngait_cycles'])\n",
    "cadence_mean = list(data_wide['cadence_mean'])\n",
    "speed_mean = list(data_wide['speed_mean'])\n",
    "speed_std = list(data_wide['speed_std'])\n",
    "slength_mean = list(data_wide['slength_mean'])\n",
    "\n",
    "num_data = list(zip(ngait_cycles, cadence_mean, speed_mean, speed_std, slength_mean))"
   ]
  },
  {
   "cell_type": "code",
   "execution_count": null,
   "id": "cbe9f832-4db2-42b5-8c23-fcf1b30d0a3b",
   "metadata": {},
   "outputs": [],
   "source": []
  },
  {
   "cell_type": "code",
   "execution_count": null,
   "id": "ed0eeada-0003-4dc9-adcf-14367d3b09c8",
   "metadata": {},
   "outputs": [],
   "source": [
    "inertias = []\n",
    "\n",
    "for i in range(1,11):\n",
    "    kmeans = KMeans(n_clusters=i)\n",
    "    kmeans.fit(numerical_variables)\n",
    "    inertias.append(kmeans.inertia_)\n",
    "\n",
    "plt.plot(range(1,11), inertias, marker='o')\n",
    "plt.title('Elbow method')\n",
    "plt.xlabel('Number of clusters')\n",
    "plt.ylabel('Inertia')\n",
    "plt.show()"
   ]
  },
  {
   "cell_type": "code",
   "execution_count": null,
   "id": "7394e8af-a4aa-4445-b812-962c2b1050d4",
   "metadata": {},
   "outputs": [],
   "source": [
    "kmeans = KMeans(n_clusters=3)\n",
    "kmeans.fit(num_data)"
   ]
  },
  {
   "cell_type": "code",
   "execution_count": null,
   "id": "066f809a-93ab-4b9f-8b90-bfb56f2aa8df",
   "metadata": {},
   "outputs": [],
   "source": [
    "plt.scatter(data_wide.exp_phase_id, data_wide.WB_time, c=kmeans.labels_)\n",
    "plt.show() "
   ]
  },
  {
   "cell_type": "code",
   "execution_count": null,
   "id": "b6fdea03-bf6a-4710-aa7d-5d2ed7ce09e0",
   "metadata": {},
   "outputs": [],
   "source": [
    "data_wide_l = data_wide.copy()\n",
    "data_wide_l['kmeans_labels'] = kmeans.labels_\n",
    "data_wide_l_T2 = data_wide_l.loc[data_wide_l.exp_phase_id == 'T2',:]\n",
    "data_wide_l_T3 = data_wide_l.loc[data_wide_l.exp_phase_id == 'T3',:]"
   ]
  },
  {
   "cell_type": "code",
   "execution_count": null,
   "id": "97048019-97d8-4d4a-bac1-0e97acccac8d",
   "metadata": {},
   "outputs": [],
   "source": []
  },
  {
   "cell_type": "code",
   "execution_count": null,
   "id": "db17d7d1-9c40-464f-8d3c-22bbd491a7e8",
   "metadata": {},
   "outputs": [],
   "source": [
    "plt.scatter(data_wide_l_T2.speed_mean, data_wide_l_T2.WB_time, c=data_wide_l_T2.kmeans_labels)\n",
    "plt.show() "
   ]
  },
  {
   "cell_type": "code",
   "execution_count": null,
   "id": "56057761-0c4c-43d5-866e-f215c87c07d4",
   "metadata": {},
   "outputs": [],
   "source": [
    "plt.scatter(data_wide_l_T3.speed_mean, data_wide_l_T3.WB_time, c=data_wide_l_T3.kmeans_labels)\n",
    "plt.show() "
   ]
  },
  {
   "cell_type": "code",
   "execution_count": null,
   "id": "404d58d2-67af-4118-a34f-b5eb00b449cd",
   "metadata": {},
   "outputs": [],
   "source": [
    "plt.scatter(data_wide_l_T2.time_stamps, data_wide_l_T2.WB_time, c=data_wide_l_T2.kmeans_labels)\n",
    "plt.show() "
   ]
  },
  {
   "cell_type": "code",
   "execution_count": null,
   "id": "0a61f100-44c6-4b93-97eb-1a6ef61dff16",
   "metadata": {},
   "outputs": [],
   "source": [
    "plt.scatter(data_wide_l_T3.time_stamps, data_wide_l_T3.WB_time, c=data_wide_l_T3.kmeans_labels)\n",
    "plt.show() "
   ]
  },
  {
   "cell_type": "code",
   "execution_count": null,
   "id": "4896a615-53bf-48b6-b9b1-a82c9af60b84",
   "metadata": {},
   "outputs": [],
   "source": []
  },
  {
   "cell_type": "markdown",
   "id": "95c1d8ca-3386-4dbc-8299-2d82f2fcf9c8",
   "metadata": {},
   "source": [
    "#### All clusters seem to be present both before and after rehab. "
   ]
  },
  {
   "cell_type": "code",
   "execution_count": null,
   "id": "e52790f1-8d80-41c6-baab-1ad826d46a50",
   "metadata": {},
   "outputs": [],
   "source": [
    "plt.scatter(data_wide.morning_afternoon, data_wide.WB_time, c=kmeans.labels_)\n",
    "plt.show() "
   ]
  },
  {
   "cell_type": "markdown",
   "id": "8c6f3be9-26ba-49c5-ad6e-4805abfceeb9",
   "metadata": {},
   "source": [
    "#### All clusters seem to be present both in the morning and in the afternoon."
   ]
  },
  {
   "cell_type": "code",
   "execution_count": null,
   "id": "e33b5618-1e76-48fd-b335-471535e8d6d1",
   "metadata": {},
   "outputs": [],
   "source": [
    "plt.scatter(data_wide.time_stamps, data_wide.WB_time, c=kmeans.labels_)\n",
    "plt.show() "
   ]
  },
  {
   "cell_type": "code",
   "execution_count": null,
   "id": "2873bfdc-30bd-493b-a646-ca18b087495d",
   "metadata": {},
   "outputs": [],
   "source": [
    "plt.scatter(data_wide.speed_mean, data_wide.WB_time, c=kmeans.labels_)\n",
    "plt.show() "
   ]
  },
  {
   "cell_type": "code",
   "execution_count": null,
   "id": "1ef79211-753a-4544-9f99-552c6d4bf55d",
   "metadata": {},
   "outputs": [],
   "source": []
  }
 ],
 "metadata": {
  "kernelspec": {
   "display_name": "Python 3 (ipykernel)",
   "language": "python",
   "name": "python3"
  },
  "language_info": {
   "codemirror_mode": {
    "name": "ipython",
    "version": 3
   },
   "file_extension": ".py",
   "mimetype": "text/x-python",
   "name": "python",
   "nbconvert_exporter": "python",
   "pygments_lexer": "ipython3",
   "version": "3.12.3"
  }
 },
 "nbformat": 4,
 "nbformat_minor": 5
}
