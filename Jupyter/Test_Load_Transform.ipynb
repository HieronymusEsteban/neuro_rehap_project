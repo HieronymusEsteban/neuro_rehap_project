{
 "cells": [
  {
   "cell_type": "code",
   "execution_count": 37,
   "id": "7e0635d0-917a-4b60-9091-4b5d87c55f55",
   "metadata": {},
   "outputs": [],
   "source": [
    "import pandas as pd\n",
    "import numpy as np\n",
    "import scipy.io as sio\n",
    "import os\n",
    "import re\n",
    "import source.load_mat_files as mat_fls"
   ]
  },
  {
   "cell_type": "code",
   "execution_count": 38,
   "id": "0be2d0d5-eff0-404e-a39c-a528c0bcd237",
   "metadata": {},
   "outputs": [
    {
     "data": {
      "text/plain": [
       "'/app'"
      ]
     },
     "execution_count": 38,
     "metadata": {},
     "output_type": "execute_result"
    }
   ],
   "source": [
    "os.getcwd()"
   ]
  },
  {
   "cell_type": "markdown",
   "id": "6614c368-6ffb-41a6-8780-d293d8ea6d84",
   "metadata": {},
   "source": [
    "## Check samples of variables and data points comparing data from csv-files and .mat files:"
   ]
  },
  {
   "cell_type": "markdown",
   "id": "9aac7f3b-8fa8-47a3-9968-b09bd5ed8617",
   "metadata": {},
   "source": [
    "### Choose experiment phase (T2 or T3):"
   ]
  },
  {
   "cell_type": "code",
   "execution_count": 39,
   "id": "b222775b-a3ac-40ca-a358-df535651c3fc",
   "metadata": {},
   "outputs": [],
   "source": [
    "file_path_folder = 'Data/'\n",
    "file_path_last_part = 'locomotion_metrics_T2.mat'"
   ]
  },
  {
   "cell_type": "markdown",
   "id": "b60d2869-8242-4030-a5fd-605ffe7cd777",
   "metadata": {},
   "source": [
    "### Select subject:"
   ]
  },
  {
   "cell_type": "code",
   "execution_count": 40,
   "id": "349db717-e42d-4346-b1c9-649d0c4db239",
   "metadata": {},
   "outputs": [
    {
     "data": {
      "text/plain": [
       "['Sub_07_locomotion_metrics_T3.mat',\n",
       " 'Sub_21_locomotion_metrics_T2.mat',\n",
       " 'Sub_21_locomotion_metrics_T3.mat',\n",
       " 'Sub_07_locomotion_metrics_T2.mat',\n",
       " 'Sub_43_locomotion_metrics_T3.mat',\n",
       " 'Sub_34_locomotion_metrics_T3.mat',\n",
       " 'Sub_34_locomotion_metrics_T2.mat',\n",
       " 'Sub_43_locomotion_metrics_T2.mat',\n",
       " 'Sub_44_locomotion_metrics_T2.mat',\n",
       " 'Sub_15_locomotion_metrics_T3.mat',\n",
       " 'Sub_33_locomotion_metrics_T2.mat',\n",
       " 'Sub_33_locomotion_metrics_T3.mat',\n",
       " 'Sub_15_locomotion_metrics_T2.mat',\n",
       " 'Sub_44_locomotion_metrics_T3.mat',\n",
       " 'Sub_26_locomotion_metrics_T3.mat',\n",
       " 'test_text.txt',\n",
       " 'Sub_08_locomotion_metrics_T3.mat',\n",
       " 'Sub_08_locomotion_metrics_T2.mat',\n",
       " 'Sub_26_locomotion_metrics_T2.mat',\n",
       " 'Sub_23_locomotion_metrics_T2.mat',\n",
       " 'Sub_05_locomotion_metrics_T3.mat',\n",
       " 'data_table_wide.csv',\n",
       " 'Sub_05_locomotion_metrics_T2.mat',\n",
       " 'Sub_23_locomotion_metrics_T3.mat',\n",
       " 'Sub_18_locomotion_metrics_T3.mat',\n",
       " 'Sub_49_locomotion_metrics_T2.mat',\n",
       " 'Sub_36_locomotion_metrics_T3.mat',\n",
       " 'Sub_10_locomotion_metrics_T2.mat',\n",
       " 'Sub_10_locomotion_metrics_T3.mat',\n",
       " 'Sub_36_locomotion_metrics_T2.mat',\n",
       " 'Sub_49_locomotion_metrics_T3.mat',\n",
       " 'Sub_18_locomotion_metrics_T2.mat',\n",
       " 'Sub_39_locomotion_metrics_T3.mat',\n",
       " 'Sub_17_locomotion_metrics_T3.mat',\n",
       " 'Sub_46_locomotion_metrics_T2.mat',\n",
       " 'Sub_46_locomotion_metrics_T3.mat',\n",
       " 'Sub_17_locomotion_metrics_T2.mat',\n",
       " 'Sub_39_locomotion_metrics_T2.mat',\n",
       " 'Sub_02_locomotion_metrics_T2.mat',\n",
       " 'Sub_02_locomotion_metrics_T3.mat',\n",
       " 'Sub_03_locomotion_metrics_T3.mat',\n",
       " 'Sub_25_locomotion_metrics_T2.mat',\n",
       " 'Sub_52_locomotion_metrics_T2.mat',\n",
       " 'Sub_52_locomotion_metrics_T3.mat',\n",
       " 'Sub_25_locomotion_metrics_T3.mat',\n",
       " 'Sub_03_locomotion_metrics_T2.mat',\n",
       " 'Sub_47_locomotion_metrics_T3.mat',\n",
       " 'Sub_16_locomotion_metrics_T2.mat',\n",
       " 'data_table_long.csv',\n",
       " 'Sub_30_locomotion_metrics_T3.mat',\n",
       " 'Sub_38_locomotion_metrics_T2.mat',\n",
       " 'Sub_38_locomotion_metrics_T3.mat',\n",
       " 'Sub_30_locomotion_metrics_T2.mat',\n",
       " 'Sub_16_locomotion_metrics_T3.mat',\n",
       " 'Sub_47_locomotion_metrics_T2.mat',\n",
       " 'Sub_40_locomotion_metrics_T2.mat',\n",
       " 'Sub_37_locomotion_metrics_T2.mat',\n",
       " 'Sub_48_locomotion_metrics_T3.mat',\n",
       " 'Sub_19_locomotion_metrics_T2.mat',\n",
       " 'Sub_19_locomotion_metrics_T3.mat',\n",
       " 'Sub_48_locomotion_metrics_T2.mat',\n",
       " 'Sub_37_locomotion_metrics_T3.mat',\n",
       " 'Sub_40_locomotion_metrics_T3.mat',\n",
       " 'Sub_22_locomotion_metrics_T3.mat',\n",
       " 'Sub_22_locomotion_metrics_T2.mat',\n",
       " 'Sub_09_locomotion_metrics_T2.mat',\n",
       " 'Sub_50_locomotion_metrics_T2.mat',\n",
       " 'Sub_27_locomotion_metrics_T2.mat',\n",
       " 'Sub_01_locomotion_metrics_T3.mat',\n",
       " 'Sub_01_locomotion_metrics_T2.mat',\n",
       " 'Sub_27_locomotion_metrics_T3.mat',\n",
       " 'Sub_50_locomotion_metrics_T3.mat',\n",
       " 'Sub_09_locomotion_metrics_T3.mat',\n",
       " 'Sub_32_locomotion_metrics_T3.mat',\n",
       " 'Sub_14_locomotion_metrics_T2.mat',\n",
       " 'Sub_14_locomotion_metrics_T3.mat',\n",
       " 'Sub_32_locomotion_metrics_T2.mat',\n",
       " 'Sub_35_locomotion_metrics_T2.mat',\n",
       " 'Sub_13_locomotion_metrics_T3.mat',\n",
       " 'Sub_42_locomotion_metrics_T2.mat',\n",
       " 'Sub_42_locomotion_metrics_T3.mat',\n",
       " 'Sub_13_locomotion_metrics_T2.mat',\n",
       " 'Sub_35_locomotion_metrics_T3.mat',\n",
       " 'Sub_28_locomotion_metrics_T2.mat',\n",
       " 'Sub_20_locomotion_metrics_T3.mat',\n",
       " 'Sub_06_locomotion_metrics_T2.mat',\n",
       " 'Sub_06_locomotion_metrics_T3.mat',\n",
       " 'Sub_20_locomotion_metrics_T2.mat',\n",
       " 'Sub_28_locomotion_metrics_T3.mat']"
      ]
     },
     "execution_count": 40,
     "metadata": {},
     "output_type": "execute_result"
    }
   ],
   "source": [
    "os.listdir('Data')"
   ]
  },
  {
   "cell_type": "code",
   "execution_count": 41,
   "id": "c83bf513-6c0c-4853-8822-54b4a611613f",
   "metadata": {},
   "outputs": [],
   "source": [
    "file_path_subject = 'Sub_43_'"
   ]
  },
  {
   "cell_type": "markdown",
   "id": "400c6447-6daf-4e52-92ed-152d096d913a",
   "metadata": {},
   "source": [
    "### Define file path for .mat file:"
   ]
  },
  {
   "cell_type": "code",
   "execution_count": 42,
   "id": "184b6323-0e6e-4178-8bfc-b36596c99a91",
   "metadata": {},
   "outputs": [],
   "source": [
    "file_path = file_path_folder + file_path_subject + \\\n",
    "file_path_last_part"
   ]
  },
  {
   "cell_type": "code",
   "execution_count": 43,
   "id": "172e9420-97b2-4063-88fa-05dca18932fe",
   "metadata": {},
   "outputs": [
    {
     "data": {
      "text/plain": [
       "'Data/Sub_43_locomotion_metrics_T2.mat'"
      ]
     },
     "execution_count": 43,
     "metadata": {},
     "output_type": "execute_result"
    }
   ],
   "source": [
    "file_path"
   ]
  },
  {
   "cell_type": "markdown",
   "id": "a052077e-99f8-45ab-bea6-a0b5546dc789",
   "metadata": {},
   "source": [
    "### Load .mat file of individual subject: "
   ]
  },
  {
   "cell_type": "code",
   "execution_count": 44,
   "id": "713ad56a-cc4d-451a-9e3f-0bf4ddab7489",
   "metadata": {},
   "outputs": [],
   "source": [
    "mat_contents = sio.loadmat(file_path)"
   ]
  },
  {
   "cell_type": "markdown",
   "id": "0fe08d35-86b3-4707-8082-651038e7c80e",
   "metadata": {},
   "source": [
    "### Load data from csv-files:"
   ]
  },
  {
   "cell_type": "code",
   "execution_count": 45,
   "id": "c925abf3-e17a-4824-ad8c-21e40340f6d2",
   "metadata": {},
   "outputs": [],
   "source": [
    "data_wide = pd.read_csv('Data/data_table_wide.csv')"
   ]
  },
  {
   "cell_type": "code",
   "execution_count": 46,
   "id": "72211ecd-9640-491e-87d0-7b16cf393bfb",
   "metadata": {},
   "outputs": [],
   "source": [
    "data_long = pd.read_csv('Data/data_table_long.csv')"
   ]
  },
  {
   "cell_type": "code",
   "execution_count": 47,
   "id": "9b655fed-dfe6-40ff-a35e-680dc3b658f5",
   "metadata": {},
   "outputs": [
    {
     "data": {
      "text/html": [
       "<div>\n",
       "<style scoped>\n",
       "    .dataframe tbody tr th:only-of-type {\n",
       "        vertical-align: middle;\n",
       "    }\n",
       "\n",
       "    .dataframe tbody tr th {\n",
       "        vertical-align: top;\n",
       "    }\n",
       "\n",
       "    .dataframe thead th {\n",
       "        text-align: right;\n",
       "    }\n",
       "</style>\n",
       "<table border=\"1\" class=\"dataframe\">\n",
       "  <thead>\n",
       "    <tr style=\"text-align: right;\">\n",
       "      <th></th>\n",
       "      <th>Unnamed: 0</th>\n",
       "      <th>subject</th>\n",
       "      <th>time_stamps</th>\n",
       "      <th>time_stamps_hours</th>\n",
       "      <th>morning_afternoon</th>\n",
       "      <th>WB_time</th>\n",
       "      <th>Ngait_cycles</th>\n",
       "      <th>gait_timestamps</th>\n",
       "      <th>cadence_mean</th>\n",
       "      <th>speed_mean</th>\n",
       "      <th>speed_std</th>\n",
       "      <th>slength_mean</th>\n",
       "      <th>slength_std</th>\n",
       "      <th>gtime_mean</th>\n",
       "      <th>gtime_std</th>\n",
       "      <th>speed_CV</th>\n",
       "      <th>slength_CV</th>\n",
       "      <th>gtime_CV</th>\n",
       "    </tr>\n",
       "  </thead>\n",
       "  <tbody>\n",
       "    <tr>\n",
       "      <th>0</th>\n",
       "      <td>0</td>\n",
       "      <td>Sub_07_locomotion_metrics_T3.mat</td>\n",
       "      <td>1902.250</td>\n",
       "      <td>0.528403</td>\n",
       "      <td>1</td>\n",
       "      <td>19.755</td>\n",
       "      <td>8</td>\n",
       "      <td>1902.250</td>\n",
       "      <td>64.807776</td>\n",
       "      <td>0.225336</td>\n",
       "      <td>0.075265</td>\n",
       "      <td>0.451554</td>\n",
       "      <td>0.167691</td>\n",
       "      <td>2.178750</td>\n",
       "      <td>0.700774</td>\n",
       "      <td>33.401301</td>\n",
       "      <td>37.136404</td>\n",
       "      <td>32.164030</td>\n",
       "    </tr>\n",
       "    <tr>\n",
       "      <th>1</th>\n",
       "      <td>1</td>\n",
       "      <td>Sub_07_locomotion_metrics_T3.mat</td>\n",
       "      <td>2073.525</td>\n",
       "      <td>0.575979</td>\n",
       "      <td>1</td>\n",
       "      <td>16.085</td>\n",
       "      <td>5</td>\n",
       "      <td>2073.525</td>\n",
       "      <td>57.347111</td>\n",
       "      <td>0.208822</td>\n",
       "      <td>0.061870</td>\n",
       "      <td>0.480341</td>\n",
       "      <td>0.088375</td>\n",
       "      <td>2.290000</td>\n",
       "      <td>0.605506</td>\n",
       "      <td>29.628191</td>\n",
       "      <td>18.398306</td>\n",
       "      <td>26.441309</td>\n",
       "    </tr>\n",
       "    <tr>\n",
       "      <th>2</th>\n",
       "      <td>2</td>\n",
       "      <td>Sub_07_locomotion_metrics_T3.mat</td>\n",
       "      <td>9207.550</td>\n",
       "      <td>2.557653</td>\n",
       "      <td>1</td>\n",
       "      <td>22.615</td>\n",
       "      <td>6</td>\n",
       "      <td>9207.550</td>\n",
       "      <td>57.518216</td>\n",
       "      <td>0.222426</td>\n",
       "      <td>0.032684</td>\n",
       "      <td>0.548935</td>\n",
       "      <td>0.112076</td>\n",
       "      <td>2.400000</td>\n",
       "      <td>0.726092</td>\n",
       "      <td>14.694195</td>\n",
       "      <td>20.416998</td>\n",
       "      <td>30.253845</td>\n",
       "    </tr>\n",
       "    <tr>\n",
       "      <th>3</th>\n",
       "      <td>3</td>\n",
       "      <td>Sub_07_locomotion_metrics_T3.mat</td>\n",
       "      <td>9246.650</td>\n",
       "      <td>2.568514</td>\n",
       "      <td>1</td>\n",
       "      <td>50.545</td>\n",
       "      <td>19</td>\n",
       "      <td>9246.650</td>\n",
       "      <td>50.749761</td>\n",
       "      <td>0.250745</td>\n",
       "      <td>0.060429</td>\n",
       "      <td>0.565642</td>\n",
       "      <td>0.117444</td>\n",
       "      <td>2.443158</td>\n",
       "      <td>0.351553</td>\n",
       "      <td>24.099732</td>\n",
       "      <td>20.762948</td>\n",
       "      <td>14.389285</td>\n",
       "    </tr>\n",
       "    <tr>\n",
       "      <th>4</th>\n",
       "      <td>4</td>\n",
       "      <td>Sub_07_locomotion_metrics_T3.mat</td>\n",
       "      <td>10340.750</td>\n",
       "      <td>2.872431</td>\n",
       "      <td>1</td>\n",
       "      <td>59.235</td>\n",
       "      <td>27</td>\n",
       "      <td>10340.750</td>\n",
       "      <td>59.649372</td>\n",
       "      <td>0.307023</td>\n",
       "      <td>0.069514</td>\n",
       "      <td>0.601272</td>\n",
       "      <td>0.104795</td>\n",
       "      <td>2.051296</td>\n",
       "      <td>0.261452</td>\n",
       "      <td>22.641162</td>\n",
       "      <td>17.428885</td>\n",
       "      <td>12.745674</td>\n",
       "    </tr>\n",
       "  </tbody>\n",
       "</table>\n",
       "</div>"
      ],
      "text/plain": [
       "   Unnamed: 0                           subject  time_stamps  \\\n",
       "0           0  Sub_07_locomotion_metrics_T3.mat     1902.250   \n",
       "1           1  Sub_07_locomotion_metrics_T3.mat     2073.525   \n",
       "2           2  Sub_07_locomotion_metrics_T3.mat     9207.550   \n",
       "3           3  Sub_07_locomotion_metrics_T3.mat     9246.650   \n",
       "4           4  Sub_07_locomotion_metrics_T3.mat    10340.750   \n",
       "\n",
       "   time_stamps_hours  morning_afternoon  WB_time  Ngait_cycles  \\\n",
       "0           0.528403                  1   19.755             8   \n",
       "1           0.575979                  1   16.085             5   \n",
       "2           2.557653                  1   22.615             6   \n",
       "3           2.568514                  1   50.545            19   \n",
       "4           2.872431                  1   59.235            27   \n",
       "\n",
       "   gait_timestamps  cadence_mean  speed_mean  speed_std  slength_mean  \\\n",
       "0         1902.250     64.807776    0.225336   0.075265      0.451554   \n",
       "1         2073.525     57.347111    0.208822   0.061870      0.480341   \n",
       "2         9207.550     57.518216    0.222426   0.032684      0.548935   \n",
       "3         9246.650     50.749761    0.250745   0.060429      0.565642   \n",
       "4        10340.750     59.649372    0.307023   0.069514      0.601272   \n",
       "\n",
       "   slength_std  gtime_mean  gtime_std   speed_CV  slength_CV   gtime_CV  \n",
       "0     0.167691    2.178750   0.700774  33.401301   37.136404  32.164030  \n",
       "1     0.088375    2.290000   0.605506  29.628191   18.398306  26.441309  \n",
       "2     0.112076    2.400000   0.726092  14.694195   20.416998  30.253845  \n",
       "3     0.117444    2.443158   0.351553  24.099732   20.762948  14.389285  \n",
       "4     0.104795    2.051296   0.261452  22.641162   17.428885  12.745674  "
      ]
     },
     "execution_count": 47,
     "metadata": {},
     "output_type": "execute_result"
    }
   ],
   "source": [
    "data_wide.head(5)"
   ]
  },
  {
   "cell_type": "code",
   "execution_count": 48,
   "id": "fefff012-b595-4cdf-a69b-4d1df11fa466",
   "metadata": {},
   "outputs": [
    {
     "data": {
      "text/html": [
       "<div>\n",
       "<style scoped>\n",
       "    .dataframe tbody tr th:only-of-type {\n",
       "        vertical-align: middle;\n",
       "    }\n",
       "\n",
       "    .dataframe tbody tr th {\n",
       "        vertical-align: top;\n",
       "    }\n",
       "\n",
       "    .dataframe thead th {\n",
       "        text-align: right;\n",
       "    }\n",
       "</style>\n",
       "<table border=\"1\" class=\"dataframe\">\n",
       "  <thead>\n",
       "    <tr style=\"text-align: right;\">\n",
       "      <th></th>\n",
       "      <th>Unnamed: 0</th>\n",
       "      <th>subject</th>\n",
       "      <th>time_stamps</th>\n",
       "      <th>time_stamps_hours</th>\n",
       "      <th>morning_afternoon</th>\n",
       "      <th>variable</th>\n",
       "      <th>value</th>\n",
       "    </tr>\n",
       "  </thead>\n",
       "  <tbody>\n",
       "    <tr>\n",
       "      <th>0</th>\n",
       "      <td>0</td>\n",
       "      <td>Sub_07_locomotion_metrics_T3.mat</td>\n",
       "      <td>1902.250</td>\n",
       "      <td>0.528403</td>\n",
       "      <td>1</td>\n",
       "      <td>WB_time</td>\n",
       "      <td>19.755</td>\n",
       "    </tr>\n",
       "    <tr>\n",
       "      <th>1</th>\n",
       "      <td>1</td>\n",
       "      <td>Sub_07_locomotion_metrics_T3.mat</td>\n",
       "      <td>2073.525</td>\n",
       "      <td>0.575979</td>\n",
       "      <td>1</td>\n",
       "      <td>WB_time</td>\n",
       "      <td>16.085</td>\n",
       "    </tr>\n",
       "    <tr>\n",
       "      <th>2</th>\n",
       "      <td>2</td>\n",
       "      <td>Sub_07_locomotion_metrics_T3.mat</td>\n",
       "      <td>9207.550</td>\n",
       "      <td>2.557653</td>\n",
       "      <td>1</td>\n",
       "      <td>WB_time</td>\n",
       "      <td>22.615</td>\n",
       "    </tr>\n",
       "    <tr>\n",
       "      <th>3</th>\n",
       "      <td>3</td>\n",
       "      <td>Sub_07_locomotion_metrics_T3.mat</td>\n",
       "      <td>9246.650</td>\n",
       "      <td>2.568514</td>\n",
       "      <td>1</td>\n",
       "      <td>WB_time</td>\n",
       "      <td>50.545</td>\n",
       "    </tr>\n",
       "    <tr>\n",
       "      <th>4</th>\n",
       "      <td>4</td>\n",
       "      <td>Sub_07_locomotion_metrics_T3.mat</td>\n",
       "      <td>10340.750</td>\n",
       "      <td>2.872431</td>\n",
       "      <td>1</td>\n",
       "      <td>WB_time</td>\n",
       "      <td>59.235</td>\n",
       "    </tr>\n",
       "  </tbody>\n",
       "</table>\n",
       "</div>"
      ],
      "text/plain": [
       "   Unnamed: 0                           subject  time_stamps  \\\n",
       "0           0  Sub_07_locomotion_metrics_T3.mat     1902.250   \n",
       "1           1  Sub_07_locomotion_metrics_T3.mat     2073.525   \n",
       "2           2  Sub_07_locomotion_metrics_T3.mat     9207.550   \n",
       "3           3  Sub_07_locomotion_metrics_T3.mat     9246.650   \n",
       "4           4  Sub_07_locomotion_metrics_T3.mat    10340.750   \n",
       "\n",
       "   time_stamps_hours  morning_afternoon variable   value  \n",
       "0           0.528403                  1  WB_time  19.755  \n",
       "1           0.575979                  1  WB_time  16.085  \n",
       "2           2.557653                  1  WB_time  22.615  \n",
       "3           2.568514                  1  WB_time  50.545  \n",
       "4           2.872431                  1  WB_time  59.235  "
      ]
     },
     "execution_count": 48,
     "metadata": {},
     "output_type": "execute_result"
    }
   ],
   "source": [
    "data_long.head(5)"
   ]
  },
  {
   "cell_type": "markdown",
   "id": "926cefea-514a-4f7f-b773-eb6fb910589f",
   "metadata": {},
   "source": [
    "### Check number of data points (data dimensions): "
   ]
  },
  {
   "cell_type": "markdown",
   "id": "8616d018-140e-4125-a0d2-d3391ceb2fd5",
   "metadata": {},
   "source": [
    "#### Select data for subject in question from data wide:"
   ]
  },
  {
   "cell_type": "code",
   "execution_count": 49,
   "id": "6327a732-6c8c-4cef-a661-0b48783e9df5",
   "metadata": {},
   "outputs": [],
   "source": [
    "file_name = file_path_subject + file_path_last_part"
   ]
  },
  {
   "cell_type": "code",
   "execution_count": 50,
   "id": "98ae359d-178a-4c73-b663-1449c39733b7",
   "metadata": {},
   "outputs": [],
   "source": [
    "data_wide_subj = data_wide[data_wide['subject']==file_name]"
   ]
  },
  {
   "cell_type": "code",
   "execution_count": 51,
   "id": "94ea2bfc-5888-4215-bc21-bc2aa5564613",
   "metadata": {},
   "outputs": [],
   "source": [
    "data_wide_subj.reset_index(drop=True, inplace=True)"
   ]
  },
  {
   "cell_type": "code",
   "execution_count": 52,
   "id": "eafe6b22-4e41-49a9-a12d-27d6f6032d5a",
   "metadata": {},
   "outputs": [
    {
     "data": {
      "text/plain": [
       "361"
      ]
     },
     "execution_count": 52,
     "metadata": {},
     "output_type": "execute_result"
    }
   ],
   "source": [
    "data_wide_subj.shape[0]"
   ]
  },
  {
   "cell_type": "markdown",
   "id": "552ab06e-82e7-4a93-bc08-b59af5e454ae",
   "metadata": {},
   "source": [
    "#### Compare number of data points from .mat file and from data-wide csv file for subject in question:"
   ]
  },
  {
   "cell_type": "code",
   "execution_count": 53,
   "id": "ca6b2ce5-1aea-444a-a3d3-5fdb469ea2b2",
   "metadata": {},
   "outputs": [
    {
     "data": {
      "text/plain": [
       "True"
      ]
     },
     "execution_count": 53,
     "metadata": {},
     "output_type": "execute_result"
    }
   ],
   "source": [
    "len(mat_contents['results'][0][0][4][0]) == data_wide_subj.shape[0]"
   ]
  },
  {
   "cell_type": "markdown",
   "id": "53449eff-c8a6-47d0-a40b-04fa7061d9f1",
   "metadata": {},
   "source": [
    "#### Select data for subject in question from data long:"
   ]
  },
  {
   "cell_type": "code",
   "execution_count": 54,
   "id": "87bf25fa-a19b-4260-9fe4-d1d20439a84a",
   "metadata": {},
   "outputs": [],
   "source": [
    "data_long_subj = data_long[data_long['subject']==file_name]"
   ]
  },
  {
   "cell_type": "code",
   "execution_count": 55,
   "id": "fb94de01-7ccd-469d-a47c-5e2964e8d7c9",
   "metadata": {},
   "outputs": [],
   "source": [
    "data_long_subj.reset_index(drop=True, inplace=True)"
   ]
  },
  {
   "cell_type": "code",
   "execution_count": 56,
   "id": "c64ed2a6-49fe-411b-a15a-5f5d959daf09",
   "metadata": {},
   "outputs": [
    {
     "data": {
      "text/html": [
       "<div>\n",
       "<style scoped>\n",
       "    .dataframe tbody tr th:only-of-type {\n",
       "        vertical-align: middle;\n",
       "    }\n",
       "\n",
       "    .dataframe tbody tr th {\n",
       "        vertical-align: top;\n",
       "    }\n",
       "\n",
       "    .dataframe thead th {\n",
       "        text-align: right;\n",
       "    }\n",
       "</style>\n",
       "<table border=\"1\" class=\"dataframe\">\n",
       "  <thead>\n",
       "    <tr style=\"text-align: right;\">\n",
       "      <th></th>\n",
       "      <th>Unnamed: 0</th>\n",
       "      <th>subject</th>\n",
       "      <th>time_stamps</th>\n",
       "      <th>time_stamps_hours</th>\n",
       "      <th>morning_afternoon</th>\n",
       "      <th>variable</th>\n",
       "      <th>value</th>\n",
       "    </tr>\n",
       "  </thead>\n",
       "  <tbody>\n",
       "    <tr>\n",
       "      <th>0</th>\n",
       "      <td>3773</td>\n",
       "      <td>Sub_43_locomotion_metrics_T2.mat</td>\n",
       "      <td>279.875</td>\n",
       "      <td>0.077743</td>\n",
       "      <td>1</td>\n",
       "      <td>WB_time</td>\n",
       "      <td>9.355000</td>\n",
       "    </tr>\n",
       "    <tr>\n",
       "      <th>1</th>\n",
       "      <td>3774</td>\n",
       "      <td>Sub_43_locomotion_metrics_T2.mat</td>\n",
       "      <td>389.250</td>\n",
       "      <td>0.108125</td>\n",
       "      <td>1</td>\n",
       "      <td>WB_time</td>\n",
       "      <td>13.890000</td>\n",
       "    </tr>\n",
       "    <tr>\n",
       "      <th>2</th>\n",
       "      <td>3775</td>\n",
       "      <td>Sub_43_locomotion_metrics_T2.mat</td>\n",
       "      <td>1234.950</td>\n",
       "      <td>0.343042</td>\n",
       "      <td>1</td>\n",
       "      <td>WB_time</td>\n",
       "      <td>13.915000</td>\n",
       "    </tr>\n",
       "    <tr>\n",
       "      <th>3</th>\n",
       "      <td>3776</td>\n",
       "      <td>Sub_43_locomotion_metrics_T2.mat</td>\n",
       "      <td>2248.600</td>\n",
       "      <td>0.624611</td>\n",
       "      <td>1</td>\n",
       "      <td>WB_time</td>\n",
       "      <td>12.770000</td>\n",
       "    </tr>\n",
       "    <tr>\n",
       "      <th>4</th>\n",
       "      <td>3777</td>\n",
       "      <td>Sub_43_locomotion_metrics_T2.mat</td>\n",
       "      <td>2306.250</td>\n",
       "      <td>0.640625</td>\n",
       "      <td>1</td>\n",
       "      <td>WB_time</td>\n",
       "      <td>16.305000</td>\n",
       "    </tr>\n",
       "    <tr>\n",
       "      <th>...</th>\n",
       "      <td>...</td>\n",
       "      <td>...</td>\n",
       "      <td>...</td>\n",
       "      <td>...</td>\n",
       "      <td>...</td>\n",
       "      <td>...</td>\n",
       "      <td>...</td>\n",
       "    </tr>\n",
       "    <tr>\n",
       "      <th>4688</th>\n",
       "      <td>695617</td>\n",
       "      <td>Sub_43_locomotion_metrics_T2.mat</td>\n",
       "      <td>24413.225</td>\n",
       "      <td>6.781451</td>\n",
       "      <td>0</td>\n",
       "      <td>gtime_CV</td>\n",
       "      <td>28.365631</td>\n",
       "    </tr>\n",
       "    <tr>\n",
       "      <th>4689</th>\n",
       "      <td>695618</td>\n",
       "      <td>Sub_43_locomotion_metrics_T2.mat</td>\n",
       "      <td>24457.050</td>\n",
       "      <td>6.793625</td>\n",
       "      <td>0</td>\n",
       "      <td>gtime_CV</td>\n",
       "      <td>52.264412</td>\n",
       "    </tr>\n",
       "    <tr>\n",
       "      <th>4690</th>\n",
       "      <td>695619</td>\n",
       "      <td>Sub_43_locomotion_metrics_T2.mat</td>\n",
       "      <td>25665.900</td>\n",
       "      <td>7.129417</td>\n",
       "      <td>0</td>\n",
       "      <td>gtime_CV</td>\n",
       "      <td>20.101652</td>\n",
       "    </tr>\n",
       "    <tr>\n",
       "      <th>4691</th>\n",
       "      <td>695620</td>\n",
       "      <td>Sub_43_locomotion_metrics_T2.mat</td>\n",
       "      <td>2432.200</td>\n",
       "      <td>0.675611</td>\n",
       "      <td>1</td>\n",
       "      <td>gtime_CV</td>\n",
       "      <td>58.998215</td>\n",
       "    </tr>\n",
       "    <tr>\n",
       "      <th>4692</th>\n",
       "      <td>695621</td>\n",
       "      <td>Sub_43_locomotion_metrics_T2.mat</td>\n",
       "      <td>6568.050</td>\n",
       "      <td>1.824458</td>\n",
       "      <td>1</td>\n",
       "      <td>gtime_CV</td>\n",
       "      <td>51.408204</td>\n",
       "    </tr>\n",
       "  </tbody>\n",
       "</table>\n",
       "<p>4693 rows × 7 columns</p>\n",
       "</div>"
      ],
      "text/plain": [
       "      Unnamed: 0                           subject  time_stamps  \\\n",
       "0           3773  Sub_43_locomotion_metrics_T2.mat      279.875   \n",
       "1           3774  Sub_43_locomotion_metrics_T2.mat      389.250   \n",
       "2           3775  Sub_43_locomotion_metrics_T2.mat     1234.950   \n",
       "3           3776  Sub_43_locomotion_metrics_T2.mat     2248.600   \n",
       "4           3777  Sub_43_locomotion_metrics_T2.mat     2306.250   \n",
       "...          ...                               ...          ...   \n",
       "4688      695617  Sub_43_locomotion_metrics_T2.mat    24413.225   \n",
       "4689      695618  Sub_43_locomotion_metrics_T2.mat    24457.050   \n",
       "4690      695619  Sub_43_locomotion_metrics_T2.mat    25665.900   \n",
       "4691      695620  Sub_43_locomotion_metrics_T2.mat     2432.200   \n",
       "4692      695621  Sub_43_locomotion_metrics_T2.mat     6568.050   \n",
       "\n",
       "      time_stamps_hours  morning_afternoon  variable      value  \n",
       "0              0.077743                  1   WB_time   9.355000  \n",
       "1              0.108125                  1   WB_time  13.890000  \n",
       "2              0.343042                  1   WB_time  13.915000  \n",
       "3              0.624611                  1   WB_time  12.770000  \n",
       "4              0.640625                  1   WB_time  16.305000  \n",
       "...                 ...                ...       ...        ...  \n",
       "4688           6.781451                  0  gtime_CV  28.365631  \n",
       "4689           6.793625                  0  gtime_CV  52.264412  \n",
       "4690           7.129417                  0  gtime_CV  20.101652  \n",
       "4691           0.675611                  1  gtime_CV  58.998215  \n",
       "4692           1.824458                  1  gtime_CV  51.408204  \n",
       "\n",
       "[4693 rows x 7 columns]"
      ]
     },
     "execution_count": 56,
     "metadata": {},
     "output_type": "execute_result"
    }
   ],
   "source": [
    "data_long_subj"
   ]
  },
  {
   "cell_type": "markdown",
   "id": "b9554639-12f3-4015-8a7b-9b2ff62bf8a0",
   "metadata": {},
   "source": [
    "#### Compare number of data points from .mat file and from data-long csv file for subject in question:"
   ]
  },
  {
   "cell_type": "code",
   "execution_count": 57,
   "id": "fdb799c9-82a0-42c9-bac2-e15b924b79eb",
   "metadata": {},
   "outputs": [
    {
     "data": {
      "text/plain": [
       "['speed_CV',\n",
       " 'speed_std',\n",
       " 'gtime_mean',\n",
       " 'gtime_std',\n",
       " 'slength_std',\n",
       " 'slength_mean',\n",
       " 'cadence_mean',\n",
       " 'gtime_CV',\n",
       " 'speed_mean',\n",
       " 'slength_CV',\n",
       " 'gait_timestamps',\n",
       " 'WB_time',\n",
       " 'Ngait_cycles']"
      ]
     },
     "execution_count": 57,
     "metadata": {},
     "output_type": "execute_result"
    }
   ],
   "source": [
    "var_list = list(set(data_long_subj['variable']))\n",
    "var_list"
   ]
  },
  {
   "cell_type": "code",
   "execution_count": 58,
   "id": "503b9172-5bc7-49d1-8463-eadd849da1b4",
   "metadata": {},
   "outputs": [
    {
     "data": {
      "text/plain": [
       "(361, 7)"
      ]
     },
     "execution_count": 58,
     "metadata": {},
     "output_type": "execute_result"
    }
   ],
   "source": [
    "data_long_subj[data_long_subj['variable']=='gtime_CV'].shape"
   ]
  },
  {
   "cell_type": "code",
   "execution_count": 59,
   "id": "45c2049c-5556-4a69-8430-f4827c161b8e",
   "metadata": {},
   "outputs": [
    {
     "data": {
      "text/plain": [
       "361"
      ]
     },
     "execution_count": 59,
     "metadata": {},
     "output_type": "execute_result"
    }
   ],
   "source": [
    "len(mat_contents['results'][0][0][4][0])"
   ]
  },
  {
   "cell_type": "markdown",
   "id": "428d1559-83da-446e-8e62-6aceb5c43996",
   "metadata": {},
   "source": [
    "#### Check if all variables have the same length (does not apply to nfoot and steps_tot): "
   ]
  },
  {
   "cell_type": "code",
   "execution_count": 60,
   "id": "c85f369c-d7f5-4275-af18-f84d1a89d1f9",
   "metadata": {},
   "outputs": [
    {
     "name": "stdout",
     "output_type": "stream",
     "text": [
      "WB_time\n",
      "Ngait_cycles\n",
      "gait_timestamps\n",
      "cadence_mean\n",
      "speed_mean\n",
      "speed_std\n",
      "slength_mean\n",
      "slength_std\n",
      "gtime_mean\n",
      "gtime_std\n",
      "speed_CV\n",
      "slength_CV\n"
     ]
    }
   ],
   "source": [
    "number_of_variables = data_wide.shape[1] - 5\n",
    "var_lengths_mat = []\n",
    "var_lengths_csv = []\n",
    "for var_selection_index in range(2, number_of_variables+1):\n",
    "    variable_to_test = mat_contents['results'][0][0].dtype.descr[var_selection_index][0]\n",
    "    print(variable_to_test)\n",
    "    variable_from_mat = mat_contents['results'][0][0][var_selection_index][0]\n",
    "    var_length_from_mat = len(variable_from_mat)\n",
    "    var_selection_bools = data_long_subj['variable']==variable_to_test\n",
    "    slice_from_long_csv = data_long_subj[var_selection_bools]\n",
    "    variable_from_long_csv = slice_from_long_csv['value']\n",
    "    var_length_from_long_csv = len(variable_from_long_csv)\n",
    "    var_lengths_mat.append(var_length_from_mat)\n",
    "    var_lengths_csv.append(var_length_from_long_csv)\n",
    "    "
   ]
  },
  {
   "cell_type": "code",
   "execution_count": 61,
   "id": "7c029d06-155b-4d96-a5cb-db81bdb1b64f",
   "metadata": {},
   "outputs": [
    {
     "data": {
      "text/plain": [
       "[361, 361, 361, 361, 361, 361, 361, 361, 361, 361, 361, 361]"
      ]
     },
     "execution_count": 61,
     "metadata": {},
     "output_type": "execute_result"
    }
   ],
   "source": [
    "var_lengths_mat"
   ]
  },
  {
   "cell_type": "code",
   "execution_count": 62,
   "id": "cc5e8c70-289a-46e9-add3-c5ad87366abc",
   "metadata": {},
   "outputs": [
    {
     "data": {
      "text/plain": [
       "[361, 361, 361, 361, 361, 361, 361, 361, 361, 361, 361, 361]"
      ]
     },
     "execution_count": 62,
     "metadata": {},
     "output_type": "execute_result"
    }
   ],
   "source": [
    "var_lengths_csv"
   ]
  },
  {
   "cell_type": "markdown",
   "id": "c7f8346c-1187-4e3d-8506-9e60688d053d",
   "metadata": {},
   "source": [
    "### Check if values are identical:"
   ]
  },
  {
   "cell_type": "markdown",
   "id": "e0b4f2ce-723d-4c78-9fb8-c5f951b2a880",
   "metadata": {},
   "source": [
    "#### Have a look at variables loaded from the two different files are identical: "
   ]
  },
  {
   "cell_type": "markdown",
   "id": "3761b91c-bf33-47bb-bb14-edfe30946134",
   "metadata": {},
   "source": [
    "Select variable:"
   ]
  },
  {
   "cell_type": "code",
   "execution_count": 73,
   "id": "2b77f004-9972-4000-bc1a-fb0c8960ea8a",
   "metadata": {},
   "outputs": [],
   "source": [
    "var_selection_index = 8"
   ]
  },
  {
   "cell_type": "markdown",
   "id": "8a48208e-97ad-4b53-851d-befd24715c54",
   "metadata": {},
   "source": [
    "Select data for selected variable from .mat file:"
   ]
  },
  {
   "cell_type": "code",
   "execution_count": 74,
   "id": "6f4d762e-c212-421a-baf3-227604fcd004",
   "metadata": {},
   "outputs": [
    {
     "data": {
      "text/plain": [
       "'slength_mean'"
      ]
     },
     "execution_count": 74,
     "metadata": {},
     "output_type": "execute_result"
    }
   ],
   "source": [
    "variable_to_test = mat_contents['results'][0][0].dtype.descr[var_selection_index][0]\n",
    "variable_to_test"
   ]
  },
  {
   "cell_type": "code",
   "execution_count": 75,
   "id": "1323d95d-8b4e-47d0-8a1e-ffda9df97edf",
   "metadata": {},
   "outputs": [],
   "source": [
    "variable_from_mat = mat_contents['results'][0][0][var_selection_index][0]"
   ]
  },
  {
   "cell_type": "markdown",
   "id": "efb9b5f1-4aa3-4278-96d6-c2f337b21f36",
   "metadata": {},
   "source": [
    "Select data for selected variable from data-wide csv file:"
   ]
  },
  {
   "cell_type": "code",
   "execution_count": 76,
   "id": "3ae3ec7f-12ac-400c-a3e1-a7b648d4a720",
   "metadata": {},
   "outputs": [],
   "source": [
    "variable_from_wide_csv = data_wide_subj[variable_to_test]"
   ]
  },
  {
   "cell_type": "code",
   "execution_count": 77,
   "id": "5fcbc103-cdef-4955-9674-6c1a5cddfb9d",
   "metadata": {},
   "outputs": [
    {
     "data": {
      "text/plain": [
       "0    0.597334\n",
       "1    0.881994\n",
       "2    0.592367\n",
       "3    0.463369\n",
       "4    0.791710\n",
       "5    0.745783\n",
       "6    0.699509\n",
       "Name: slength_mean, dtype: float64"
      ]
     },
     "execution_count": 77,
     "metadata": {},
     "output_type": "execute_result"
    }
   ],
   "source": [
    "variable_from_wide_csv[0:7]"
   ]
  },
  {
   "cell_type": "code",
   "execution_count": 78,
   "id": "252c450d-171a-4aa9-bb38-a9e0509a1e0b",
   "metadata": {},
   "outputs": [
    {
     "data": {
      "text/plain": [
       "array([0.59733383, 0.88199351, 0.59236717, 0.46336934, 0.79171042,\n",
       "       0.74578261, 0.69950855])"
      ]
     },
     "execution_count": 78,
     "metadata": {},
     "output_type": "execute_result"
    }
   ],
   "source": [
    "variable_from_mat[0:7]"
   ]
  },
  {
   "cell_type": "markdown",
   "id": "685d3a14-4aad-4757-8d12-c043ec462c55",
   "metadata": {},
   "source": [
    "#### Loop through all variables and check if they are the same in the data loaded from the mat and the wide csv file:"
   ]
  },
  {
   "cell_type": "code",
   "execution_count": 69,
   "id": "8f98683b-9bb0-4161-9f5f-33356f7cbf85",
   "metadata": {},
   "outputs": [
    {
     "name": "stdout",
     "output_type": "stream",
     "text": [
      "WB_time\n",
      "Ngait_cycles\n",
      "gait_timestamps\n",
      "cadence_mean\n",
      "speed_mean\n",
      "speed_std\n",
      "slength_mean\n",
      "slength_std\n",
      "gtime_mean\n",
      "gtime_std\n",
      "speed_CV\n",
      "slength_CV\n"
     ]
    }
   ],
   "source": [
    "number_of_variables = data_wide.shape[1] - 5\n",
    "bools_to_test = []\n",
    "for var_selection_index in range(2, number_of_variables+1):\n",
    "    variable_to_test = mat_contents['results'][0][0].dtype.descr[var_selection_index][0]\n",
    "    print(variable_to_test)\n",
    "    variable_from_mat = mat_contents['results'][0][0][var_selection_index][0]\n",
    "    variable_from_wide_csv = data_wide_subj[variable_to_test]\n",
    "    bools_to_test.append(np.array_equal(np.int64(variable_from_mat), np.int64(variable_from_wide_csv)))"
   ]
  },
  {
   "cell_type": "markdown",
   "id": "8b2ceea0-3834-4eb6-9dd0-1e427c3e3a34",
   "metadata": {},
   "source": [
    "Expected value is True:"
   ]
  },
  {
   "cell_type": "code",
   "execution_count": 70,
   "id": "be191776-de31-4c8b-ba49-c6b5fb152047",
   "metadata": {},
   "outputs": [
    {
     "data": {
      "text/plain": [
       "True"
      ]
     },
     "execution_count": 70,
     "metadata": {},
     "output_type": "execute_result"
    }
   ],
   "source": [
    "sum(bools_to_test) == len(bools_to_test)"
   ]
  },
  {
   "cell_type": "markdown",
   "id": "389519a2-804a-46c5-af46-da7605ff4546",
   "metadata": {},
   "source": [
    "#### Loop through all variables and check if they are the same in the data loaded from the mat and the long csv file:"
   ]
  },
  {
   "cell_type": "code",
   "execution_count": 71,
   "id": "4779fc63-2551-47fb-9848-529b505cfa03",
   "metadata": {},
   "outputs": [
    {
     "name": "stdout",
     "output_type": "stream",
     "text": [
      "WB_time\n",
      "Ngait_cycles\n",
      "gait_timestamps\n",
      "cadence_mean\n",
      "speed_mean\n",
      "speed_std\n",
      "slength_mean\n",
      "slength_std\n",
      "gtime_mean\n",
      "gtime_std\n",
      "speed_CV\n",
      "slength_CV\n"
     ]
    }
   ],
   "source": [
    "number_of_variables = data_wide.shape[1] - 5\n",
    "bools_to_test = []\n",
    "for var_selection_index in range(2, number_of_variables+1):\n",
    "    variable_to_test = mat_contents['results'][0][0].dtype.descr[var_selection_index][0]\n",
    "    print(variable_to_test)\n",
    "    variable_from_mat = mat_contents['results'][0][0][var_selection_index][0]\n",
    "    var_selection_bools = data_long_subj['variable']==variable_to_test\n",
    "    slice_from_long_csv = data_long_subj[var_selection_bools]\n",
    "    variable_from_long_csv = slice_from_long_csv['value']\n",
    "    bools_to_test.append(np.array_equal(np.int64(variable_from_mat), np.int64(variable_from_long_csv)))\n",
    "    "
   ]
  },
  {
   "cell_type": "markdown",
   "id": "82a70ac6-4c9e-430c-80f5-a6e66520b4c1",
   "metadata": {},
   "source": [
    "Expected value is True:"
   ]
  },
  {
   "cell_type": "code",
   "execution_count": 72,
   "id": "537f0b54-6312-4df9-babc-a7784bd384a0",
   "metadata": {},
   "outputs": [
    {
     "data": {
      "text/plain": [
       "True"
      ]
     },
     "execution_count": 72,
     "metadata": {},
     "output_type": "execute_result"
    }
   ],
   "source": [
    "sum(bools_to_test) == len(bools_to_test)"
   ]
  },
  {
   "cell_type": "code",
   "execution_count": null,
   "id": "fe8fac4a-ba3c-4317-934e-d78d4fcece7d",
   "metadata": {},
   "outputs": [],
   "source": []
  },
  {
   "cell_type": "code",
   "execution_count": null,
   "id": "f9f4cde9-f730-4385-bd1d-5af36440d7ee",
   "metadata": {},
   "outputs": [],
   "source": []
  },
  {
   "cell_type": "code",
   "execution_count": null,
   "id": "e8e10301-09e6-428d-8651-5e4f558dad3e",
   "metadata": {},
   "outputs": [],
   "source": []
  },
  {
   "cell_type": "code",
   "execution_count": null,
   "id": "433a482f-10e9-4afc-b83c-2d53927f6386",
   "metadata": {},
   "outputs": [],
   "source": []
  },
  {
   "cell_type": "code",
   "execution_count": null,
   "id": "34e8b368-bdca-446e-987e-c5a3461969cf",
   "metadata": {},
   "outputs": [],
   "source": []
  },
  {
   "cell_type": "code",
   "execution_count": null,
   "id": "98a8655e-b693-4105-a7cf-dad38bf555de",
   "metadata": {},
   "outputs": [],
   "source": []
  },
  {
   "cell_type": "code",
   "execution_count": null,
   "id": "46874e6d-3706-4e62-8235-83b4ecc76d6f",
   "metadata": {},
   "outputs": [],
   "source": []
  }
 ],
 "metadata": {
  "kernelspec": {
   "display_name": "Python 3 (ipykernel)",
   "language": "python",
   "name": "python3"
  },
  "language_info": {
   "codemirror_mode": {
    "name": "ipython",
    "version": 3
   },
   "file_extension": ".py",
   "mimetype": "text/x-python",
   "name": "python",
   "nbconvert_exporter": "python",
   "pygments_lexer": "ipython3",
   "version": "3.12.3"
  }
 },
 "nbformat": 4,
 "nbformat_minor": 5
}
