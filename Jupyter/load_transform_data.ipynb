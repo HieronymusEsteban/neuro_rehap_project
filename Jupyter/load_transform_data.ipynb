{
 "cells": [
  {
   "cell_type": "code",
   "execution_count": 1,
   "id": "d155ada6-cf33-4d96-8368-00e7c58b7120",
   "metadata": {},
   "outputs": [],
   "source": [
    "import pandas as pd\n",
    "import numpy as np\n",
    "import scipy.io as sio\n",
    "import os\n",
    "import re\n",
    "import source.transform_data as trs\n",
    "import matplotlib\n",
    "from pathlib import Path"
   ]
  },
  {
   "cell_type": "markdown",
   "id": "b144338f-5cf2-4f42-acc6-2935d47aa85e",
   "metadata": {},
   "source": [
    "## Load data from .mat files and save them in csv files"
   ]
  },
  {
   "cell_type": "markdown",
   "id": "1ea39ffe-bacb-417d-b8da-cdc692bef54d",
   "metadata": {},
   "source": [
    "### Get list of files to load: "
   ]
  },
  {
   "cell_type": "code",
   "execution_count": 2,
   "id": "b7fa38fb-b6fe-43d2-baf9-b8cc8803f573",
   "metadata": {},
   "outputs": [],
   "source": [
    "path_to_data = Path('Data')"
   ]
  },
  {
   "cell_type": "code",
   "execution_count": 3,
   "id": "76e3f23f-b477-4134-86e1-7ff13ece5816",
   "metadata": {},
   "outputs": [
    {
     "data": {
      "text/plain": [
       "PosixPath('Data')"
      ]
     },
     "execution_count": 3,
     "metadata": {},
     "output_type": "execute_result"
    }
   ],
   "source": [
    "path_to_data"
   ]
  },
  {
   "cell_type": "code",
   "execution_count": 4,
   "id": "5e2b8c55-f806-423e-8229-08a30230369a",
   "metadata": {},
   "outputs": [],
   "source": [
    "file_list = os.listdir(path_to_data)"
   ]
  },
  {
   "cell_type": "code",
   "execution_count": 5,
   "id": "2af31769-348f-4373-8b16-ca96b45d2014",
   "metadata": {},
   "outputs": [
    {
     "data": {
      "text/plain": [
       "86"
      ]
     },
     "execution_count": 5,
     "metadata": {},
     "output_type": "execute_result"
    }
   ],
   "source": [
    "file_list = os.listdir(path_to_data)\n",
    "file_list_mat = [x for x in  file_list if x[-4:] == '.mat']\n",
    "len(file_list_mat)"
   ]
  },
  {
   "cell_type": "markdown",
   "id": "0d7374b1-5078-4795-bbf6-69ed529e1c7e",
   "metadata": {},
   "source": [
    "### Sort file names in list alpha-numerically:"
   ]
  },
  {
   "cell_type": "code",
   "execution_count": 6,
   "id": "90e25a51-72c7-4fa2-8d60-9428a8a1304c",
   "metadata": {},
   "outputs": [],
   "source": [
    "file_list_mat.sort()\n",
    "#file_list_mat"
   ]
  },
  {
   "cell_type": "markdown",
   "id": "7f0657b6-f3f0-4a4e-8a78-4c12dc6a93c2",
   "metadata": {},
   "source": [
    "### Load all files into a dictionary: "
   ]
  },
  {
   "cell_type": "code",
   "execution_count": 7,
   "id": "17e603af-c943-4474-b7a0-53b28f0bbf94",
   "metadata": {},
   "outputs": [],
   "source": [
    "#os.chdir('Data')\n",
    "\n",
    "data_all = dict()\n",
    "\n",
    "for file in file_list_mat:\n",
    "    mat_contents = sio.loadmat(path_to_data/file)\n",
    "    data_all[file] = mat_contents"
   ]
  },
  {
   "cell_type": "code",
   "execution_count": 8,
   "id": "e8ba8fe0-c896-4092-a107-52d0e03ee5c7",
   "metadata": {},
   "outputs": [
    {
     "data": {
      "text/plain": [
       "'/app'"
      ]
     },
     "execution_count": 8,
     "metadata": {},
     "output_type": "execute_result"
    }
   ],
   "source": [
    "os.getcwd()"
   ]
  },
  {
   "cell_type": "code",
   "execution_count": null,
   "id": "3bc46a26-1682-49e7-aba4-0816d60246c4",
   "metadata": {},
   "outputs": [],
   "source": []
  },
  {
   "cell_type": "markdown",
   "id": "42c9adcf-dc47-4a3c-a42e-34eb8580ae6b",
   "metadata": {},
   "source": [
    "### Select the variables to load: "
   ]
  },
  {
   "cell_type": "code",
   "execution_count": 9,
   "id": "3f8d8f83-5f45-497f-af2c-4c22276d5619",
   "metadata": {},
   "outputs": [],
   "source": [
    "num_elements = len(data_all[file_list_mat[0]]['results'].dtype.descr)\n",
    "\n",
    "variables_all = []\n",
    "for index in range(0, num_elements):\n",
    "    variable_name = data_all[file_list_mat[0]]['results'].dtype.descr[index][0]\n",
    "    variables_all.append(variable_name)\n"
   ]
  },
  {
   "cell_type": "code",
   "execution_count": 10,
   "id": "62f1c22f-7009-4696-8269-87dc4c3b3c23",
   "metadata": {},
   "outputs": [],
   "source": [
    "variables_to_add = variables_all.copy()"
   ]
  },
  {
   "cell_type": "code",
   "execution_count": null,
   "id": "4219b803-61b3-481f-abed-00ee34b4e83b",
   "metadata": {},
   "outputs": [],
   "source": []
  },
  {
   "cell_type": "markdown",
   "id": "d2d74957-e638-4ab5-aa3f-3256f3db4b7c",
   "metadata": {},
   "source": [
    "#### Remove variables that I don't know what they refer to:"
   ]
  },
  {
   "cell_type": "code",
   "execution_count": 11,
   "id": "98eda514-f286-4235-b1f2-f272501cd47a",
   "metadata": {},
   "outputs": [],
   "source": [
    "variables_to_add.remove('nfoot')\n",
    "variables_to_add.remove('steps_tot')"
   ]
  },
  {
   "cell_type": "markdown",
   "id": "4462db9a-16e0-4282-9d26-f9e0cb4a6880",
   "metadata": {},
   "source": [
    "### Loop through dictionary and stack data in pandas dataframe:"
   ]
  },
  {
   "cell_type": "code",
   "execution_count": 12,
   "id": "1b53ed46-8c62-45d2-a470-eadcac991e19",
   "metadata": {},
   "outputs": [],
   "source": [
    "round_counter = 0\n",
    "list_of_frames = []\n",
    "\n",
    "for file_name, data_item in data_all.items():\n",
    "\n",
    "    data_frame_to_stack = trs.identify_get_timestamps(file_name, data_item)\n",
    "\n",
    "    for variable_name in variables_to_add:\n",
    "        data_frame_to_stack = trs.identify_get_variable(file_name, variable_name,\n",
    "                                                data_item, data_frame_to_stack)\n",
    "    list_of_frames.append(data_frame_to_stack)\n"
   ]
  },
  {
   "cell_type": "code",
   "execution_count": 13,
   "id": "e85a752c-92f1-421a-baf7-37a9a4b1a9ec",
   "metadata": {},
   "outputs": [],
   "source": [
    "data_wide = pd.concat(list_of_frames)"
   ]
  },
  {
   "cell_type": "code",
   "execution_count": 14,
   "id": "a136e0f3-ed2a-4129-9ced-9bbdda8becd5",
   "metadata": {},
   "outputs": [
    {
     "data": {
      "text/html": [
       "<div>\n",
       "<style scoped>\n",
       "    .dataframe tbody tr th:only-of-type {\n",
       "        vertical-align: middle;\n",
       "    }\n",
       "\n",
       "    .dataframe tbody tr th {\n",
       "        vertical-align: top;\n",
       "    }\n",
       "\n",
       "    .dataframe thead th {\n",
       "        text-align: right;\n",
       "    }\n",
       "</style>\n",
       "<table border=\"1\" class=\"dataframe\">\n",
       "  <thead>\n",
       "    <tr style=\"text-align: right;\">\n",
       "      <th></th>\n",
       "      <th>file_name</th>\n",
       "      <th>time_stamps</th>\n",
       "      <th>time_stamps_hours</th>\n",
       "      <th>morning_afternoon</th>\n",
       "      <th>WB_time</th>\n",
       "      <th>Ngait_cycles</th>\n",
       "      <th>gait_timestamps</th>\n",
       "      <th>cadence_mean</th>\n",
       "      <th>speed_mean</th>\n",
       "      <th>speed_std</th>\n",
       "      <th>slength_mean</th>\n",
       "      <th>slength_std</th>\n",
       "      <th>gtime_mean</th>\n",
       "      <th>gtime_std</th>\n",
       "      <th>speed_CV</th>\n",
       "      <th>slength_CV</th>\n",
       "      <th>gtime_CV</th>\n",
       "    </tr>\n",
       "  </thead>\n",
       "  <tbody>\n",
       "    <tr>\n",
       "      <th>0</th>\n",
       "      <td>Sub_01_locomotion_metrics_T2.mat</td>\n",
       "      <td>2446.175</td>\n",
       "      <td>0.679493</td>\n",
       "      <td>1</td>\n",
       "      <td>13.620</td>\n",
       "      <td>5</td>\n",
       "      <td>2446.175</td>\n",
       "      <td>90.052297</td>\n",
       "      <td>0.114202</td>\n",
       "      <td>0.165721</td>\n",
       "      <td>0.328005</td>\n",
       "      <td>0.468925</td>\n",
       "      <td>2.672000</td>\n",
       "      <td>1.991565</td>\n",
       "      <td>145.112442</td>\n",
       "      <td>142.962864</td>\n",
       "      <td>74.534631</td>\n",
       "    </tr>\n",
       "    <tr>\n",
       "      <th>1</th>\n",
       "      <td>Sub_01_locomotion_metrics_T2.mat</td>\n",
       "      <td>2591.750</td>\n",
       "      <td>0.719931</td>\n",
       "      <td>1</td>\n",
       "      <td>7.375</td>\n",
       "      <td>5</td>\n",
       "      <td>2591.750</td>\n",
       "      <td>103.294641</td>\n",
       "      <td>0.151023</td>\n",
       "      <td>0.091897</td>\n",
       "      <td>0.187907</td>\n",
       "      <td>0.121712</td>\n",
       "      <td>1.404000</td>\n",
       "      <td>0.694122</td>\n",
       "      <td>60.849881</td>\n",
       "      <td>64.772713</td>\n",
       "      <td>49.438871</td>\n",
       "    </tr>\n",
       "    <tr>\n",
       "      <th>2</th>\n",
       "      <td>Sub_01_locomotion_metrics_T2.mat</td>\n",
       "      <td>4369.050</td>\n",
       "      <td>1.213625</td>\n",
       "      <td>1</td>\n",
       "      <td>15.795</td>\n",
       "      <td>6</td>\n",
       "      <td>4369.050</td>\n",
       "      <td>52.500305</td>\n",
       "      <td>0.280798</td>\n",
       "      <td>0.048643</td>\n",
       "      <td>0.677725</td>\n",
       "      <td>0.151779</td>\n",
       "      <td>2.548333</td>\n",
       "      <td>0.736347</td>\n",
       "      <td>17.322989</td>\n",
       "      <td>22.395437</td>\n",
       "      <td>28.895232</td>\n",
       "    </tr>\n",
       "    <tr>\n",
       "      <th>3</th>\n",
       "      <td>Sub_01_locomotion_metrics_T2.mat</td>\n",
       "      <td>4397.700</td>\n",
       "      <td>1.221583</td>\n",
       "      <td>1</td>\n",
       "      <td>33.805</td>\n",
       "      <td>15</td>\n",
       "      <td>4397.700</td>\n",
       "      <td>61.260436</td>\n",
       "      <td>0.285874</td>\n",
       "      <td>0.116798</td>\n",
       "      <td>0.606137</td>\n",
       "      <td>0.250215</td>\n",
       "      <td>2.239333</td>\n",
       "      <td>0.723454</td>\n",
       "      <td>40.856607</td>\n",
       "      <td>41.280249</td>\n",
       "      <td>32.306655</td>\n",
       "    </tr>\n",
       "    <tr>\n",
       "      <th>4</th>\n",
       "      <td>Sub_01_locomotion_metrics_T2.mat</td>\n",
       "      <td>4441.550</td>\n",
       "      <td>1.233764</td>\n",
       "      <td>1</td>\n",
       "      <td>11.875</td>\n",
       "      <td>5</td>\n",
       "      <td>4441.550</td>\n",
       "      <td>58.469707</td>\n",
       "      <td>0.274018</td>\n",
       "      <td>0.064256</td>\n",
       "      <td>0.566209</td>\n",
       "      <td>0.224203</td>\n",
       "      <td>2.258000</td>\n",
       "      <td>0.676042</td>\n",
       "      <td>23.449770</td>\n",
       "      <td>39.597273</td>\n",
       "      <td>29.939849</td>\n",
       "    </tr>\n",
       "  </tbody>\n",
       "</table>\n",
       "</div>"
      ],
      "text/plain": [
       "                          file_name  time_stamps  time_stamps_hours  \\\n",
       "0  Sub_01_locomotion_metrics_T2.mat     2446.175           0.679493   \n",
       "1  Sub_01_locomotion_metrics_T2.mat     2591.750           0.719931   \n",
       "2  Sub_01_locomotion_metrics_T2.mat     4369.050           1.213625   \n",
       "3  Sub_01_locomotion_metrics_T2.mat     4397.700           1.221583   \n",
       "4  Sub_01_locomotion_metrics_T2.mat     4441.550           1.233764   \n",
       "\n",
       "   morning_afternoon  WB_time  Ngait_cycles  gait_timestamps  cadence_mean  \\\n",
       "0                  1   13.620             5         2446.175     90.052297   \n",
       "1                  1    7.375             5         2591.750    103.294641   \n",
       "2                  1   15.795             6         4369.050     52.500305   \n",
       "3                  1   33.805            15         4397.700     61.260436   \n",
       "4                  1   11.875             5         4441.550     58.469707   \n",
       "\n",
       "   speed_mean  speed_std  slength_mean  slength_std  gtime_mean  gtime_std  \\\n",
       "0    0.114202   0.165721      0.328005     0.468925    2.672000   1.991565   \n",
       "1    0.151023   0.091897      0.187907     0.121712    1.404000   0.694122   \n",
       "2    0.280798   0.048643      0.677725     0.151779    2.548333   0.736347   \n",
       "3    0.285874   0.116798      0.606137     0.250215    2.239333   0.723454   \n",
       "4    0.274018   0.064256      0.566209     0.224203    2.258000   0.676042   \n",
       "\n",
       "     speed_CV  slength_CV   gtime_CV  \n",
       "0  145.112442  142.962864  74.534631  \n",
       "1   60.849881   64.772713  49.438871  \n",
       "2   17.322989   22.395437  28.895232  \n",
       "3   40.856607   41.280249  32.306655  \n",
       "4   23.449770   39.597273  29.939849  "
      ]
     },
     "execution_count": 14,
     "metadata": {},
     "output_type": "execute_result"
    }
   ],
   "source": [
    "data_wide.head()"
   ]
  },
  {
   "cell_type": "markdown",
   "id": "ed4f0b66-8a80-4d21-92c7-b253c91afdb7",
   "metadata": {},
   "source": [
    "### Add id columns to designate if measurements were taken before or after rehab training:"
   ]
  },
  {
   "cell_type": "code",
   "execution_count": 15,
   "id": "b5990ba3-2021-4c44-bfdb-d19c5f500b3a",
   "metadata": {},
   "outputs": [],
   "source": [
    "#data_wide = trs.add_exp_phase_id(data_wide, 'subject')\n",
    "data_wide = trs.add_exp_phase_id(data_wide, 'file_name')"
   ]
  },
  {
   "cell_type": "code",
   "execution_count": 16,
   "id": "9abc0b25-9bec-4b82-b6e7-e03420310ea8",
   "metadata": {},
   "outputs": [
    {
     "data": {
      "text/html": [
       "<div>\n",
       "<style scoped>\n",
       "    .dataframe tbody tr th:only-of-type {\n",
       "        vertical-align: middle;\n",
       "    }\n",
       "\n",
       "    .dataframe tbody tr th {\n",
       "        vertical-align: top;\n",
       "    }\n",
       "\n",
       "    .dataframe thead th {\n",
       "        text-align: right;\n",
       "    }\n",
       "</style>\n",
       "<table border=\"1\" class=\"dataframe\">\n",
       "  <thead>\n",
       "    <tr style=\"text-align: right;\">\n",
       "      <th></th>\n",
       "      <th>file_name</th>\n",
       "      <th>exp_phase_id</th>\n",
       "      <th>exp_phase_descr</th>\n",
       "      <th>time_stamps</th>\n",
       "      <th>time_stamps_hours</th>\n",
       "      <th>morning_afternoon</th>\n",
       "      <th>WB_time</th>\n",
       "      <th>Ngait_cycles</th>\n",
       "      <th>gait_timestamps</th>\n",
       "      <th>cadence_mean</th>\n",
       "      <th>speed_mean</th>\n",
       "      <th>speed_std</th>\n",
       "      <th>slength_mean</th>\n",
       "      <th>slength_std</th>\n",
       "      <th>gtime_mean</th>\n",
       "      <th>gtime_std</th>\n",
       "      <th>speed_CV</th>\n",
       "      <th>slength_CV</th>\n",
       "      <th>gtime_CV</th>\n",
       "    </tr>\n",
       "  </thead>\n",
       "  <tbody>\n",
       "    <tr>\n",
       "      <th>0</th>\n",
       "      <td>Sub_01_locomotion_metrics_T2.mat</td>\n",
       "      <td>T2</td>\n",
       "      <td>Control phase: before rehab training.</td>\n",
       "      <td>2446.175</td>\n",
       "      <td>0.679493</td>\n",
       "      <td>1</td>\n",
       "      <td>13.620</td>\n",
       "      <td>5</td>\n",
       "      <td>2446.175</td>\n",
       "      <td>90.052297</td>\n",
       "      <td>0.114202</td>\n",
       "      <td>0.165721</td>\n",
       "      <td>0.328005</td>\n",
       "      <td>0.468925</td>\n",
       "      <td>2.672000</td>\n",
       "      <td>1.991565</td>\n",
       "      <td>145.112442</td>\n",
       "      <td>142.962864</td>\n",
       "      <td>74.534631</td>\n",
       "    </tr>\n",
       "    <tr>\n",
       "      <th>1</th>\n",
       "      <td>Sub_01_locomotion_metrics_T2.mat</td>\n",
       "      <td>T2</td>\n",
       "      <td>Control phase: before rehab training.</td>\n",
       "      <td>2591.750</td>\n",
       "      <td>0.719931</td>\n",
       "      <td>1</td>\n",
       "      <td>7.375</td>\n",
       "      <td>5</td>\n",
       "      <td>2591.750</td>\n",
       "      <td>103.294641</td>\n",
       "      <td>0.151023</td>\n",
       "      <td>0.091897</td>\n",
       "      <td>0.187907</td>\n",
       "      <td>0.121712</td>\n",
       "      <td>1.404000</td>\n",
       "      <td>0.694122</td>\n",
       "      <td>60.849881</td>\n",
       "      <td>64.772713</td>\n",
       "      <td>49.438871</td>\n",
       "    </tr>\n",
       "    <tr>\n",
       "      <th>2</th>\n",
       "      <td>Sub_01_locomotion_metrics_T2.mat</td>\n",
       "      <td>T2</td>\n",
       "      <td>Control phase: before rehab training.</td>\n",
       "      <td>4369.050</td>\n",
       "      <td>1.213625</td>\n",
       "      <td>1</td>\n",
       "      <td>15.795</td>\n",
       "      <td>6</td>\n",
       "      <td>4369.050</td>\n",
       "      <td>52.500305</td>\n",
       "      <td>0.280798</td>\n",
       "      <td>0.048643</td>\n",
       "      <td>0.677725</td>\n",
       "      <td>0.151779</td>\n",
       "      <td>2.548333</td>\n",
       "      <td>0.736347</td>\n",
       "      <td>17.322989</td>\n",
       "      <td>22.395437</td>\n",
       "      <td>28.895232</td>\n",
       "    </tr>\n",
       "    <tr>\n",
       "      <th>3</th>\n",
       "      <td>Sub_01_locomotion_metrics_T2.mat</td>\n",
       "      <td>T2</td>\n",
       "      <td>Control phase: before rehab training.</td>\n",
       "      <td>4397.700</td>\n",
       "      <td>1.221583</td>\n",
       "      <td>1</td>\n",
       "      <td>33.805</td>\n",
       "      <td>15</td>\n",
       "      <td>4397.700</td>\n",
       "      <td>61.260436</td>\n",
       "      <td>0.285874</td>\n",
       "      <td>0.116798</td>\n",
       "      <td>0.606137</td>\n",
       "      <td>0.250215</td>\n",
       "      <td>2.239333</td>\n",
       "      <td>0.723454</td>\n",
       "      <td>40.856607</td>\n",
       "      <td>41.280249</td>\n",
       "      <td>32.306655</td>\n",
       "    </tr>\n",
       "    <tr>\n",
       "      <th>4</th>\n",
       "      <td>Sub_01_locomotion_metrics_T2.mat</td>\n",
       "      <td>T2</td>\n",
       "      <td>Control phase: before rehab training.</td>\n",
       "      <td>4441.550</td>\n",
       "      <td>1.233764</td>\n",
       "      <td>1</td>\n",
       "      <td>11.875</td>\n",
       "      <td>5</td>\n",
       "      <td>4441.550</td>\n",
       "      <td>58.469707</td>\n",
       "      <td>0.274018</td>\n",
       "      <td>0.064256</td>\n",
       "      <td>0.566209</td>\n",
       "      <td>0.224203</td>\n",
       "      <td>2.258000</td>\n",
       "      <td>0.676042</td>\n",
       "      <td>23.449770</td>\n",
       "      <td>39.597273</td>\n",
       "      <td>29.939849</td>\n",
       "    </tr>\n",
       "  </tbody>\n",
       "</table>\n",
       "</div>"
      ],
      "text/plain": [
       "                          file_name exp_phase_id  \\\n",
       "0  Sub_01_locomotion_metrics_T2.mat           T2   \n",
       "1  Sub_01_locomotion_metrics_T2.mat           T2   \n",
       "2  Sub_01_locomotion_metrics_T2.mat           T2   \n",
       "3  Sub_01_locomotion_metrics_T2.mat           T2   \n",
       "4  Sub_01_locomotion_metrics_T2.mat           T2   \n",
       "\n",
       "                         exp_phase_descr  time_stamps  time_stamps_hours  \\\n",
       "0  Control phase: before rehab training.     2446.175           0.679493   \n",
       "1  Control phase: before rehab training.     2591.750           0.719931   \n",
       "2  Control phase: before rehab training.     4369.050           1.213625   \n",
       "3  Control phase: before rehab training.     4397.700           1.221583   \n",
       "4  Control phase: before rehab training.     4441.550           1.233764   \n",
       "\n",
       "   morning_afternoon  WB_time  Ngait_cycles  gait_timestamps  cadence_mean  \\\n",
       "0                  1   13.620             5         2446.175     90.052297   \n",
       "1                  1    7.375             5         2591.750    103.294641   \n",
       "2                  1   15.795             6         4369.050     52.500305   \n",
       "3                  1   33.805            15         4397.700     61.260436   \n",
       "4                  1   11.875             5         4441.550     58.469707   \n",
       "\n",
       "   speed_mean  speed_std  slength_mean  slength_std  gtime_mean  gtime_std  \\\n",
       "0    0.114202   0.165721      0.328005     0.468925    2.672000   1.991565   \n",
       "1    0.151023   0.091897      0.187907     0.121712    1.404000   0.694122   \n",
       "2    0.280798   0.048643      0.677725     0.151779    2.548333   0.736347   \n",
       "3    0.285874   0.116798      0.606137     0.250215    2.239333   0.723454   \n",
       "4    0.274018   0.064256      0.566209     0.224203    2.258000   0.676042   \n",
       "\n",
       "     speed_CV  slength_CV   gtime_CV  \n",
       "0  145.112442  142.962864  74.534631  \n",
       "1   60.849881   64.772713  49.438871  \n",
       "2   17.322989   22.395437  28.895232  \n",
       "3   40.856607   41.280249  32.306655  \n",
       "4   23.449770   39.597273  29.939849  "
      ]
     },
     "execution_count": 16,
     "metadata": {},
     "output_type": "execute_result"
    }
   ],
   "source": [
    "data_wide.head()"
   ]
  },
  {
   "cell_type": "code",
   "execution_count": 17,
   "id": "7be1cf99-8588-4f05-b10d-54c3e6b18853",
   "metadata": {},
   "outputs": [
    {
     "data": {
      "text/plain": [
       "{'T2', 'T3'}"
      ]
     },
     "execution_count": 17,
     "metadata": {},
     "output_type": "execute_result"
    }
   ],
   "source": [
    "set(data_wide.exp_phase_id)"
   ]
  },
  {
   "cell_type": "code",
   "execution_count": 18,
   "id": "58df46c4-474b-452c-aadc-d772b3532920",
   "metadata": {},
   "outputs": [
    {
     "data": {
      "text/plain": [
       "exp_phase_id\n",
       "T2    31796\n",
       "T3    25828\n",
       "Name: count, dtype: int64"
      ]
     },
     "execution_count": 18,
     "metadata": {},
     "output_type": "execute_result"
    }
   ],
   "source": [
    "data_wide.value_counts('exp_phase_id')"
   ]
  },
  {
   "cell_type": "code",
   "execution_count": null,
   "id": "46863a3d-e1b6-4078-b58f-0d4c40360d61",
   "metadata": {},
   "outputs": [],
   "source": []
  },
  {
   "cell_type": "code",
   "execution_count": 19,
   "id": "6b6a1502-7587-484c-a6d8-0cbd94928471",
   "metadata": {},
   "outputs": [],
   "source": [
    "exp_phase_bools = list(data_wide.exp_phase_id == 'T3')"
   ]
  },
  {
   "cell_type": "code",
   "execution_count": 20,
   "id": "f624a7e4-865e-4e98-b3f0-0c149cf2185b",
   "metadata": {},
   "outputs": [],
   "source": [
    "exp_phase_one_hot = [trs.bools_to_one_hot(x) for x in exp_phase_bools]"
   ]
  },
  {
   "cell_type": "code",
   "execution_count": 21,
   "id": "5e0cef72-7e87-4f5a-ab06-b11deddf3364",
   "metadata": {},
   "outputs": [
    {
     "name": "stderr",
     "output_type": "stream",
     "text": [
      "/tmp/ipykernel_7007/3341610584.py:1: FutureWarning: pandas.value_counts is deprecated and will be removed in a future version. Use pd.Series(obj).value_counts() instead.\n",
      "  pd.value_counts(exp_phase_one_hot)\n",
      "/tmp/ipykernel_7007/3341610584.py:1: FutureWarning: value_counts with argument that is not not a Series, Index, ExtensionArray, or np.ndarray is deprecated and will raise in a future version.\n",
      "  pd.value_counts(exp_phase_one_hot)\n"
     ]
    },
    {
     "data": {
      "text/plain": [
       "0    31796\n",
       "1    25828\n",
       "Name: count, dtype: int64"
      ]
     },
     "execution_count": 21,
     "metadata": {},
     "output_type": "execute_result"
    }
   ],
   "source": [
    "pd.value_counts(exp_phase_one_hot)"
   ]
  },
  {
   "cell_type": "code",
   "execution_count": 22,
   "id": "a8008b87-8b88-4005-88d1-a889a6b2a30f",
   "metadata": {},
   "outputs": [
    {
     "data": {
      "text/plain": [
       "3"
      ]
     },
     "execution_count": 22,
     "metadata": {},
     "output_type": "execute_result"
    }
   ],
   "source": [
    "col_position = data_wide.columns.get_loc('exp_phase_descr') + 1\n",
    "col_position"
   ]
  },
  {
   "cell_type": "code",
   "execution_count": 23,
   "id": "027a46bc-c509-4b4a-8f5d-1d647bd5febf",
   "metadata": {},
   "outputs": [],
   "source": [
    "data_wide.insert(col_position, 'exp_phase_one_hot', exp_phase_one_hot)"
   ]
  },
  {
   "cell_type": "code",
   "execution_count": null,
   "id": "dc78fb51-d757-4821-b338-e465b8160c54",
   "metadata": {},
   "outputs": [],
   "source": []
  },
  {
   "cell_type": "code",
   "execution_count": null,
   "id": "fbc70a72-d314-4164-8eb5-4744553d12ef",
   "metadata": {},
   "outputs": [],
   "source": []
  },
  {
   "cell_type": "code",
   "execution_count": 24,
   "id": "c2352fbc-8bd7-41fa-8e09-89b3ee30f873",
   "metadata": {},
   "outputs": [
    {
     "data": {
      "text/plain": [
       "'/app'"
      ]
     },
     "execution_count": 24,
     "metadata": {},
     "output_type": "execute_result"
    }
   ],
   "source": [
    "os.getcwd()"
   ]
  },
  {
   "cell_type": "markdown",
   "id": "51d69432-f78d-43c2-af4a-2b7b8a4c9338",
   "metadata": {},
   "source": [
    "### Save wide format dataframe as csv-file:"
   ]
  },
  {
   "cell_type": "code",
   "execution_count": 25,
   "id": "b8b8cb75-4176-48f4-bbff-046729f8a5af",
   "metadata": {},
   "outputs": [],
   "source": [
    "data_wide.to_csv(path_to_data/'data_table_wide.csv', sep=',', index=False)"
   ]
  },
  {
   "cell_type": "code",
   "execution_count": 26,
   "id": "d44f9ea5-a04d-4a27-b37d-985f62de147b",
   "metadata": {},
   "outputs": [],
   "source": [
    "data_wide_copy = data_wide.copy()"
   ]
  },
  {
   "cell_type": "markdown",
   "id": "aaafd51b-3d6f-4ed9-8c18-0c81dde8ee3e",
   "metadata": {},
   "source": [
    "### Unpivot dataframe (to long format):"
   ]
  },
  {
   "cell_type": "code",
   "execution_count": 27,
   "id": "133e0ab0-ca7c-443e-afcb-fb5829b1f008",
   "metadata": {},
   "outputs": [
    {
     "data": {
      "text/plain": [
       "6"
      ]
     },
     "execution_count": 27,
     "metadata": {},
     "output_type": "execute_result"
    }
   ],
   "source": [
    "col_list = list(data_wide_copy.columns)\n",
    "col_list.index('morning_afternoon')"
   ]
  },
  {
   "cell_type": "markdown",
   "id": "0e362807-600e-434b-89d5-a7a5396c6d02",
   "metadata": {},
   "source": [
    "#### Separate id-columns from variable columns:"
   ]
  },
  {
   "cell_type": "code",
   "execution_count": 28,
   "id": "76f7c12c-0a9f-4905-a330-8aff85dc895c",
   "metadata": {},
   "outputs": [
    {
     "name": "stdout",
     "output_type": "stream",
     "text": [
      "Index(['file_name', 'exp_phase_id', 'exp_phase_descr', 'exp_phase_one_hot',\n",
      "       'time_stamps', 'time_stamps_hours', 'morning_afternoon'],\n",
      "      dtype='object')\n",
      "Index(['WB_time', 'Ngait_cycles', 'gait_timestamps', 'cadence_mean',\n",
      "       'speed_mean', 'speed_std', 'slength_mean', 'slength_std', 'gtime_mean',\n",
      "       'gtime_std', 'speed_CV', 'slength_CV', 'gtime_CV'],\n",
      "      dtype='object')\n"
     ]
    }
   ],
   "source": [
    "id_columns = data_wide_copy.columns[0:7]\n",
    "value_columns = data_wide_copy.columns[7:]\n",
    "print(id_columns)\n",
    "print(value_columns)"
   ]
  },
  {
   "cell_type": "markdown",
   "id": "19d10233-cfa2-4361-8a8e-b51950e2fbe5",
   "metadata": {},
   "source": [
    "#### Save data:"
   ]
  },
  {
   "cell_type": "code",
   "execution_count": 29,
   "id": "444e92c9-a79f-43e2-9674-97cb8bca252d",
   "metadata": {},
   "outputs": [],
   "source": [
    "data_long = data_wide_copy.melt(id_vars=id_columns, value_vars=value_columns,\n",
    "                    var_name='variable', value_name='value')"
   ]
  },
  {
   "cell_type": "code",
   "execution_count": 30,
   "id": "e52e244c-a25b-4a20-99fb-8b1c336f510b",
   "metadata": {},
   "outputs": [
    {
     "data": {
      "text/html": [
       "<div>\n",
       "<style scoped>\n",
       "    .dataframe tbody tr th:only-of-type {\n",
       "        vertical-align: middle;\n",
       "    }\n",
       "\n",
       "    .dataframe tbody tr th {\n",
       "        vertical-align: top;\n",
       "    }\n",
       "\n",
       "    .dataframe thead th {\n",
       "        text-align: right;\n",
       "    }\n",
       "</style>\n",
       "<table border=\"1\" class=\"dataframe\">\n",
       "  <thead>\n",
       "    <tr style=\"text-align: right;\">\n",
       "      <th></th>\n",
       "      <th>file_name</th>\n",
       "      <th>exp_phase_id</th>\n",
       "      <th>exp_phase_descr</th>\n",
       "      <th>exp_phase_one_hot</th>\n",
       "      <th>time_stamps</th>\n",
       "      <th>time_stamps_hours</th>\n",
       "      <th>morning_afternoon</th>\n",
       "      <th>variable</th>\n",
       "      <th>value</th>\n",
       "    </tr>\n",
       "  </thead>\n",
       "  <tbody>\n",
       "    <tr>\n",
       "      <th>0</th>\n",
       "      <td>Sub_01_locomotion_metrics_T2.mat</td>\n",
       "      <td>T2</td>\n",
       "      <td>Control phase: before rehab training.</td>\n",
       "      <td>0</td>\n",
       "      <td>2446.175</td>\n",
       "      <td>0.679493</td>\n",
       "      <td>1</td>\n",
       "      <td>WB_time</td>\n",
       "      <td>13.620</td>\n",
       "    </tr>\n",
       "    <tr>\n",
       "      <th>1</th>\n",
       "      <td>Sub_01_locomotion_metrics_T2.mat</td>\n",
       "      <td>T2</td>\n",
       "      <td>Control phase: before rehab training.</td>\n",
       "      <td>0</td>\n",
       "      <td>2591.750</td>\n",
       "      <td>0.719931</td>\n",
       "      <td>1</td>\n",
       "      <td>WB_time</td>\n",
       "      <td>7.375</td>\n",
       "    </tr>\n",
       "    <tr>\n",
       "      <th>2</th>\n",
       "      <td>Sub_01_locomotion_metrics_T2.mat</td>\n",
       "      <td>T2</td>\n",
       "      <td>Control phase: before rehab training.</td>\n",
       "      <td>0</td>\n",
       "      <td>4369.050</td>\n",
       "      <td>1.213625</td>\n",
       "      <td>1</td>\n",
       "      <td>WB_time</td>\n",
       "      <td>15.795</td>\n",
       "    </tr>\n",
       "    <tr>\n",
       "      <th>3</th>\n",
       "      <td>Sub_01_locomotion_metrics_T2.mat</td>\n",
       "      <td>T2</td>\n",
       "      <td>Control phase: before rehab training.</td>\n",
       "      <td>0</td>\n",
       "      <td>4397.700</td>\n",
       "      <td>1.221583</td>\n",
       "      <td>1</td>\n",
       "      <td>WB_time</td>\n",
       "      <td>33.805</td>\n",
       "    </tr>\n",
       "    <tr>\n",
       "      <th>4</th>\n",
       "      <td>Sub_01_locomotion_metrics_T2.mat</td>\n",
       "      <td>T2</td>\n",
       "      <td>Control phase: before rehab training.</td>\n",
       "      <td>0</td>\n",
       "      <td>4441.550</td>\n",
       "      <td>1.233764</td>\n",
       "      <td>1</td>\n",
       "      <td>WB_time</td>\n",
       "      <td>11.875</td>\n",
       "    </tr>\n",
       "  </tbody>\n",
       "</table>\n",
       "</div>"
      ],
      "text/plain": [
       "                          file_name exp_phase_id  \\\n",
       "0  Sub_01_locomotion_metrics_T2.mat           T2   \n",
       "1  Sub_01_locomotion_metrics_T2.mat           T2   \n",
       "2  Sub_01_locomotion_metrics_T2.mat           T2   \n",
       "3  Sub_01_locomotion_metrics_T2.mat           T2   \n",
       "4  Sub_01_locomotion_metrics_T2.mat           T2   \n",
       "\n",
       "                         exp_phase_descr  exp_phase_one_hot  time_stamps  \\\n",
       "0  Control phase: before rehab training.                  0     2446.175   \n",
       "1  Control phase: before rehab training.                  0     2591.750   \n",
       "2  Control phase: before rehab training.                  0     4369.050   \n",
       "3  Control phase: before rehab training.                  0     4397.700   \n",
       "4  Control phase: before rehab training.                  0     4441.550   \n",
       "\n",
       "   time_stamps_hours  morning_afternoon variable   value  \n",
       "0           0.679493                  1  WB_time  13.620  \n",
       "1           0.719931                  1  WB_time   7.375  \n",
       "2           1.213625                  1  WB_time  15.795  \n",
       "3           1.221583                  1  WB_time  33.805  \n",
       "4           1.233764                  1  WB_time  11.875  "
      ]
     },
     "execution_count": 30,
     "metadata": {},
     "output_type": "execute_result"
    }
   ],
   "source": [
    "data_long.head()"
   ]
  },
  {
   "cell_type": "markdown",
   "id": "d6ed2deb-9843-4e4c-b551-be57a34462ae",
   "metadata": {},
   "source": [
    "### Save long format dataframe as csv:"
   ]
  },
  {
   "cell_type": "code",
   "execution_count": 31,
   "id": "4b758e09-142e-4aea-9ec9-03efb4ac3ea9",
   "metadata": {},
   "outputs": [],
   "source": [
    "data_long.to_csv(path_to_data/'data_table_long.csv', sep=',', index=False)"
   ]
  },
  {
   "cell_type": "code",
   "execution_count": 32,
   "id": "05845edb-85e1-4540-9de1-975568a813e5",
   "metadata": {},
   "outputs": [],
   "source": [
    "#os.chdir('..')"
   ]
  },
  {
   "cell_type": "code",
   "execution_count": null,
   "id": "c806219c-87f8-4076-be8e-e590140cb2d3",
   "metadata": {},
   "outputs": [],
   "source": []
  },
  {
   "cell_type": "code",
   "execution_count": 33,
   "id": "f10cac43-8603-4a86-a3bd-d1d2567709f1",
   "metadata": {},
   "outputs": [
    {
     "name": "stdout",
     "output_type": "stream",
     "text": [
      "Sub_01_locomotion_metrics_T2.mat\n",
      "Sub_01_locomotion_metrics_T3.mat\n",
      "Sub_02_locomotion_metrics_T2.mat\n",
      "Sub_02_locomotion_metrics_T3.mat\n",
      "Sub_03_locomotion_metrics_T2.mat\n",
      "Sub_03_locomotion_metrics_T3.mat\n",
      "Sub_05_locomotion_metrics_T2.mat\n",
      "Sub_05_locomotion_metrics_T3.mat\n",
      "Sub_06_locomotion_metrics_T2.mat\n",
      "Sub_06_locomotion_metrics_T3.mat\n",
      "Sub_07_locomotion_metrics_T2.mat\n",
      "Sub_07_locomotion_metrics_T3.mat\n",
      "Sub_08_locomotion_metrics_T2.mat\n",
      "Sub_08_locomotion_metrics_T3.mat\n",
      "Sub_09_locomotion_metrics_T2.mat\n",
      "Sub_09_locomotion_metrics_T3.mat\n",
      "Sub_10_locomotion_metrics_T2.mat\n",
      "Sub_10_locomotion_metrics_T3.mat\n",
      "Sub_13_locomotion_metrics_T2.mat\n",
      "Sub_13_locomotion_metrics_T3.mat\n",
      "Sub_14_locomotion_metrics_T2.mat\n",
      "Sub_14_locomotion_metrics_T3.mat\n",
      "Sub_15_locomotion_metrics_T2.mat\n",
      "Sub_15_locomotion_metrics_T3.mat\n",
      "Sub_16_locomotion_metrics_T2.mat\n",
      "Sub_16_locomotion_metrics_T3.mat\n",
      "Sub_17_locomotion_metrics_T2.mat\n",
      "Sub_17_locomotion_metrics_T3.mat\n",
      "Sub_18_locomotion_metrics_T2.mat\n",
      "Sub_18_locomotion_metrics_T3.mat\n",
      "Sub_19_locomotion_metrics_T2.mat\n",
      "Sub_19_locomotion_metrics_T3.mat\n",
      "Sub_20_locomotion_metrics_T2.mat\n",
      "Sub_20_locomotion_metrics_T3.mat\n",
      "Sub_21_locomotion_metrics_T2.mat\n",
      "Sub_21_locomotion_metrics_T3.mat\n",
      "Sub_22_locomotion_metrics_T2.mat\n",
      "Sub_22_locomotion_metrics_T3.mat\n",
      "Sub_23_locomotion_metrics_T2.mat\n",
      "Sub_23_locomotion_metrics_T3.mat\n",
      "Sub_25_locomotion_metrics_T2.mat\n",
      "Sub_25_locomotion_metrics_T3.mat\n",
      "Sub_26_locomotion_metrics_T2.mat\n",
      "Sub_26_locomotion_metrics_T3.mat\n",
      "Sub_27_locomotion_metrics_T2.mat\n",
      "Sub_27_locomotion_metrics_T3.mat\n",
      "Sub_28_locomotion_metrics_T2.mat\n",
      "Sub_28_locomotion_metrics_T3.mat\n",
      "Sub_30_locomotion_metrics_T2.mat\n",
      "Sub_30_locomotion_metrics_T3.mat\n",
      "Sub_32_locomotion_metrics_T2.mat\n",
      "Sub_32_locomotion_metrics_T3.mat\n",
      "Sub_33_locomotion_metrics_T2.mat\n",
      "Sub_33_locomotion_metrics_T3.mat\n",
      "Sub_34_locomotion_metrics_T2.mat\n",
      "Sub_34_locomotion_metrics_T3.mat\n",
      "Sub_35_locomotion_metrics_T2.mat\n",
      "Sub_35_locomotion_metrics_T3.mat\n",
      "Sub_36_locomotion_metrics_T2.mat\n",
      "Sub_36_locomotion_metrics_T3.mat\n",
      "Sub_37_locomotion_metrics_T2.mat\n",
      "Sub_37_locomotion_metrics_T3.mat\n",
      "Sub_38_locomotion_metrics_T2.mat\n",
      "Sub_38_locomotion_metrics_T3.mat\n",
      "Sub_39_locomotion_metrics_T2.mat\n",
      "Sub_39_locomotion_metrics_T3.mat\n",
      "Sub_40_locomotion_metrics_T2.mat\n",
      "Sub_40_locomotion_metrics_T3.mat\n",
      "Sub_42_locomotion_metrics_T2.mat\n",
      "Sub_42_locomotion_metrics_T3.mat\n",
      "Sub_43_locomotion_metrics_T2.mat\n",
      "Sub_43_locomotion_metrics_T3.mat\n",
      "Sub_44_locomotion_metrics_T2.mat\n",
      "Sub_44_locomotion_metrics_T3.mat\n",
      "Sub_46_locomotion_metrics_T2.mat\n",
      "Sub_46_locomotion_metrics_T3.mat\n",
      "Sub_47_locomotion_metrics_T2.mat\n",
      "Sub_47_locomotion_metrics_T3.mat\n",
      "Sub_48_locomotion_metrics_T2.mat\n",
      "Sub_48_locomotion_metrics_T3.mat\n",
      "Sub_49_locomotion_metrics_T2.mat\n",
      "Sub_49_locomotion_metrics_T3.mat\n",
      "Sub_50_locomotion_metrics_T2.mat\n",
      "Sub_50_locomotion_metrics_T3.mat\n",
      "Sub_52_locomotion_metrics_T2.mat\n",
      "Sub_52_locomotion_metrics_T3.mat\n"
     ]
    }
   ],
   "source": [
    "for key, data_item in data_all.items():\n",
    "    print(key)"
   ]
  },
  {
   "cell_type": "code",
   "execution_count": null,
   "id": "7951547a-201e-4b56-9596-882d2135d0b9",
   "metadata": {},
   "outputs": [],
   "source": []
  },
  {
   "cell_type": "code",
   "execution_count": null,
   "id": "a62c6d16-9c02-40e6-a00f-6008e58489d4",
   "metadata": {},
   "outputs": [],
   "source": []
  },
  {
   "cell_type": "code",
   "execution_count": null,
   "id": "e61e5791-b595-4dae-9271-e17fd15c01c1",
   "metadata": {},
   "outputs": [],
   "source": []
  },
  {
   "cell_type": "code",
   "execution_count": null,
   "id": "9d554d0b-5372-4f14-b125-d883c51d6d72",
   "metadata": {},
   "outputs": [],
   "source": []
  }
 ],
 "metadata": {
  "kernelspec": {
   "display_name": "Python 3 (ipykernel)",
   "language": "python",
   "name": "python3"
  },
  "language_info": {
   "codemirror_mode": {
    "name": "ipython",
    "version": 3
   },
   "file_extension": ".py",
   "mimetype": "text/x-python",
   "name": "python",
   "nbconvert_exporter": "python",
   "pygments_lexer": "ipython3",
   "version": "3.12.3"
  }
 },
 "nbformat": 4,
 "nbformat_minor": 5
}
