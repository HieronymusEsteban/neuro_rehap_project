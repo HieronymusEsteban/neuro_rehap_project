{
 "cells": [
  {
   "cell_type": "code",
   "execution_count": 2,
   "id": "3f0ba134-9460-4ab1-af14-fe470108871e",
   "metadata": {},
   "outputs": [],
   "source": [
    "import pandas as pd\n",
    "import numpy as np\n",
    "import scipy.io as sio\n",
    "import os\n",
    "import re\n",
    "import source.load_mat_files as mat_fls"
   ]
  },
  {
   "cell_type": "code",
   "execution_count": 3,
   "id": "4184de18-27d8-41c4-b263-11491772e67e",
   "metadata": {},
   "outputs": [
    {
     "data": {
      "text/plain": [
       "['Test_Load_Transform.ipynb',\n",
       " '.DS_Store',\n",
       " 'requirements.txt',\n",
       " 'Untitled.ipynb',\n",
       " 'Dockerfile',\n",
       " 'source',\n",
       " 'tests',\n",
       " 'load_transform_data.ipynb',\n",
       " 'docs',\n",
       " 'loading_mat_file.ipynb',\n",
       " '.ipynb_checkpoints',\n",
       " 'Data']"
      ]
     },
     "execution_count": 3,
     "metadata": {},
     "output_type": "execute_result"
    }
   ],
   "source": [
    "os.listdir()"
   ]
  },
  {
   "cell_type": "markdown",
   "id": "a7f81c4f-1888-4bce-9160-1c09451f3b4d",
   "metadata": {},
   "source": [
    "Load data: "
   ]
  },
  {
   "cell_type": "code",
   "execution_count": 4,
   "id": "692f5936-6bdb-4cf5-a820-0e8bc8445881",
   "metadata": {},
   "outputs": [],
   "source": [
    "mat_contents = sio.loadmat('Data/Sub_01_locomotion_metrics_T2.mat')"
   ]
  },
  {
   "cell_type": "markdown",
   "id": "ba171265-d793-428b-81ed-85e3047feff6",
   "metadata": {},
   "source": [
    "The mat_contents object is a python dictionary:"
   ]
  },
  {
   "cell_type": "code",
   "execution_count": 5,
   "id": "4de92c72-038a-48b3-a982-292d7c4d6bfb",
   "metadata": {},
   "outputs": [
    {
     "data": {
      "text/plain": [
       "dict"
      ]
     },
     "execution_count": 5,
     "metadata": {},
     "output_type": "execute_result"
    }
   ],
   "source": [
    "type(mat_contents)"
   ]
  },
  {
   "cell_type": "markdown",
   "id": "db4172c2-8a4f-45cf-bb6d-af2c08961028",
   "metadata": {},
   "source": [
    "There is information about the creation of the file in an entry specified by a key called __header__ : "
   ]
  },
  {
   "cell_type": "code",
   "execution_count": 6,
   "id": "3c0b2f87-ccf9-4d60-a365-80e1b258a15e",
   "metadata": {},
   "outputs": [
    {
     "data": {
      "text/plain": [
       "b'MATLAB 5.0 MAT-file, Platform: PCWIN64, Created on: Mon Apr  4 15:59:06 2022'"
      ]
     },
     "execution_count": 6,
     "metadata": {},
     "output_type": "execute_result"
    }
   ],
   "source": [
    "mat_contents['__header__']"
   ]
  },
  {
   "cell_type": "code",
   "execution_count": 7,
   "id": "81091b88-740e-4c25-8940-17cf1ac8a13f",
   "metadata": {},
   "outputs": [
    {
     "data": {
      "text/plain": [
       "'1.0'"
      ]
     },
     "execution_count": 7,
     "metadata": {},
     "output_type": "execute_result"
    }
   ],
   "source": [
    "mat_contents['__version__']"
   ]
  },
  {
   "cell_type": "markdown",
   "id": "1ace273a-5c0b-48f0-a5d6-552ca59f3fa7",
   "metadata": {},
   "source": [
    "There is another entry is specified by the key 'results' and it is a numpy array:"
   ]
  },
  {
   "cell_type": "code",
   "execution_count": 8,
   "id": "adb603e6-9d0b-4290-80c2-90737627c042",
   "metadata": {},
   "outputs": [
    {
     "data": {
      "text/plain": [
       "numpy.ndarray"
      ]
     },
     "execution_count": 8,
     "metadata": {},
     "output_type": "execute_result"
    }
   ],
   "source": [
    "type(mat_contents['results'])"
   ]
  },
  {
   "cell_type": "markdown",
   "id": "b716cb07-8b30-454e-81ed-806048d6ea4a",
   "metadata": {},
   "source": [
    "The numpy array contains another numpy array which in turn contains an object of type numpy.void: "
   ]
  },
  {
   "cell_type": "code",
   "execution_count": 9,
   "id": "d02c6fca-905f-4f8c-ab63-eded87ac112c",
   "metadata": {},
   "outputs": [
    {
     "data": {
      "text/plain": [
       "numpy.ndarray"
      ]
     },
     "execution_count": 9,
     "metadata": {},
     "output_type": "execute_result"
    }
   ],
   "source": [
    "type(mat_contents['results'][0])"
   ]
  },
  {
   "cell_type": "code",
   "execution_count": 10,
   "id": "06448329-867f-4997-ade5-4459592b3450",
   "metadata": {},
   "outputs": [
    {
     "data": {
      "text/plain": [
       "numpy.void"
      ]
     },
     "execution_count": 10,
     "metadata": {},
     "output_type": "execute_result"
    }
   ],
   "source": [
    "type(mat_contents['results'][0][0])"
   ]
  },
  {
   "cell_type": "markdown",
   "id": "4a98d108-4087-43c0-9fb4-f7c656ef0f1c",
   "metadata": {},
   "source": [
    "This object (mat_contents['results'][0][0]) then contains 15 elements and an attribute with information about 15 elements:"
   ]
  },
  {
   "cell_type": "code",
   "execution_count": 11,
   "id": "d7ce4516-daf3-4d7d-bb25-b499a27c53af",
   "metadata": {},
   "outputs": [
    {
     "data": {
      "text/plain": [
       "15"
      ]
     },
     "execution_count": 11,
     "metadata": {},
     "output_type": "execute_result"
    }
   ],
   "source": [
    "len(mat_contents['results'][0][0])"
   ]
  },
  {
   "cell_type": "code",
   "execution_count": 12,
   "id": "eb798f9d-84c1-46dc-b203-436d91cba805",
   "metadata": {},
   "outputs": [
    {
     "data": {
      "text/plain": [
       "15"
      ]
     },
     "execution_count": 12,
     "metadata": {},
     "output_type": "execute_result"
    }
   ],
   "source": [
    "len(mat_contents['results'].dtype)"
   ]
  },
  {
   "cell_type": "code",
   "execution_count": 13,
   "id": "19d5f348-9529-4089-8385-0243c85a3bff",
   "metadata": {},
   "outputs": [
    {
     "data": {
      "text/plain": [
       "dtype([('nfoot', 'O'), ('steps_tot', 'O'), ('WB_time', 'O'), ('Ngait_cycles', 'O'), ('gait_timestamps', 'O'), ('cadence_mean', 'O'), ('speed_mean', 'O'), ('speed_std', 'O'), ('slength_mean', 'O'), ('slength_std', 'O'), ('gtime_mean', 'O'), ('gtime_std', 'O'), ('speed_CV', 'O'), ('slength_CV', 'O'), ('gtime_CV', 'O')])"
      ]
     },
     "execution_count": 13,
     "metadata": {},
     "output_type": "execute_result"
    }
   ],
   "source": [
    "mat_contents['results'].dtype"
   ]
  },
  {
   "cell_type": "markdown",
   "id": "dadc6030-8f49-452c-97ea-04f95c8f6254",
   "metadata": {},
   "source": [
    "The elements in mat_contents['results'][0][0] are all numpy arrays, each of length 1 (it turns out, there is yet another numpy array inside this array of length 1 where you find the actual data):"
   ]
  },
  {
   "cell_type": "code",
   "execution_count": 26,
   "id": "530a83c5-3c99-435b-a251-fe63da0ac4c4",
   "metadata": {},
   "outputs": [
    {
     "name": "stdout",
     "output_type": "stream",
     "text": [
      "\n",
      "\n",
      "0\n",
      "<class 'numpy.ndarray'>\n",
      "length\n",
      "1\n",
      "\n",
      "\n",
      "1\n",
      "<class 'numpy.ndarray'>\n",
      "length\n",
      "1\n",
      "\n",
      "\n",
      "2\n",
      "<class 'numpy.ndarray'>\n",
      "length\n",
      "1\n",
      "\n",
      "\n",
      "3\n",
      "<class 'numpy.ndarray'>\n",
      "length\n",
      "1\n",
      "\n",
      "\n",
      "4\n",
      "<class 'numpy.ndarray'>\n",
      "length\n",
      "1\n",
      "\n",
      "\n",
      "5\n",
      "<class 'numpy.ndarray'>\n",
      "length\n",
      "1\n",
      "\n",
      "\n",
      "6\n",
      "<class 'numpy.ndarray'>\n",
      "length\n",
      "1\n",
      "\n",
      "\n",
      "7\n",
      "<class 'numpy.ndarray'>\n",
      "length\n",
      "1\n",
      "\n",
      "\n",
      "8\n",
      "<class 'numpy.ndarray'>\n",
      "length\n",
      "1\n",
      "\n",
      "\n",
      "9\n",
      "<class 'numpy.ndarray'>\n",
      "length\n",
      "1\n",
      "\n",
      "\n",
      "10\n",
      "<class 'numpy.ndarray'>\n",
      "length\n",
      "1\n",
      "\n",
      "\n",
      "11\n",
      "<class 'numpy.ndarray'>\n",
      "length\n",
      "1\n",
      "\n",
      "\n",
      "12\n",
      "<class 'numpy.ndarray'>\n",
      "length\n",
      "1\n",
      "\n",
      "\n",
      "13\n",
      "<class 'numpy.ndarray'>\n",
      "length\n",
      "1\n",
      "\n",
      "\n",
      "14\n",
      "<class 'numpy.ndarray'>\n",
      "length\n",
      "1\n"
     ]
    }
   ],
   "source": [
    "for index in range(0, len(mat_contents['results'][0][0])):\n",
    "    print('\\n')\n",
    "    print(index)\n",
    "    print(type(mat_contents['results'][0][0][index]))\n",
    "    print('length')\n",
    "    print(len(mat_contents['results'][0][0][index]))"
   ]
  },
  {
   "cell_type": "code",
   "execution_count": null,
   "id": "cfea4358-c0e2-4a10-9137-482a51cdd08d",
   "metadata": {},
   "outputs": [],
   "source": []
  },
  {
   "cell_type": "markdown",
   "id": "4d4f11a8-5541-4d61-ab95-3540e81fad63",
   "metadata": {},
   "source": [
    "One can have a look at the 15 arrays and the 15 information items about the arrays: "
   ]
  },
  {
   "cell_type": "code",
   "execution_count": 31,
   "id": "d6b504f8-23ed-4244-9d70-2343d4066685",
   "metadata": {},
   "outputs": [
    {
     "data": {
      "text/plain": [
       "array([[ 90.05229743, 103.29464096,  52.5003051 ,  61.26043554,\n",
       "         58.46970686,  65.02735765,  79.35433467,  55.52923232,\n",
       "         61.65209544,  58.54636887,  58.2352045 ,  60.8580735 ,\n",
       "         78.67607821,  65.83321848,  59.1036802 ,  57.24532117,\n",
       "         52.21608709,  54.8938333 ,  91.72904187, 142.94101948,\n",
       "         55.68445476,  51.27669459,  89.81346633,  65.30896018,\n",
       "         63.86792623,  56.49889049,  53.03939731,  52.92364139,\n",
       "         51.01211255,  55.28914662,  73.11066938,  53.42862127,\n",
       "         51.27126211,  77.90314946,  64.05432084,  58.15988079,\n",
       "         58.38398366,  78.22980443,  53.9692733 ,  75.07096897,\n",
       "         49.67904216,  64.37740699,  53.99647056,  66.52730404,\n",
       "         57.03675272, 104.8808961 ,  98.8686801 ,  81.81054251,\n",
       "         77.9988954 ,  78.71568042, 104.72023719,  89.81327895,\n",
       "         64.38890702, 117.54488381, 192.31885961, 141.18895826,\n",
       "         59.55944815,  46.02413015,  91.2136864 ,  51.99716813,\n",
       "        109.6810936 ,  47.17729569,  82.47509393, 105.30087315,\n",
       "         75.94728115,  70.26537181,  41.39242041, 109.62066768,\n",
       "         90.55387352,  66.06286862,  94.73725492,  59.05819481,\n",
       "         68.29849894, 193.38895793,  51.76157928,  57.06712707,\n",
       "         56.37683219,  52.79698049,  62.81889373,  56.61440305,\n",
       "         61.12476898,  66.00866668,  59.72208364,  66.3367186 ,\n",
       "         52.2958532 ,  54.77989186,  60.21191121,  67.42176931,\n",
       "         53.67353739,  91.22551625,  66.78472415,  55.38137871,\n",
       "        114.80403327,  55.12280925,  74.59491975,  56.2578658 ,\n",
       "         60.82006663,  71.52079214, 110.63109275,  52.5218187 ,\n",
       "         64.03910019,  76.94759349,  68.89201603,  76.74739827]])"
      ]
     },
     "execution_count": 31,
     "metadata": {},
     "output_type": "execute_result"
    }
   ],
   "source": [
    "mat_contents['results'][0][0][5]"
   ]
  },
  {
   "cell_type": "markdown",
   "id": "077c7eb3-6d6e-443f-beba-e7b273f4df18",
   "metadata": {},
   "source": [
    "It is the array inside the array that contains the actual data, so you need to slice the array once more to get the length and contents of the data:"
   ]
  },
  {
   "cell_type": "code",
   "execution_count": 32,
   "id": "83604b46-c838-4afb-8fd8-16710bc1fe4a",
   "metadata": {},
   "outputs": [
    {
     "data": {
      "text/plain": [
       "104"
      ]
     },
     "execution_count": 32,
     "metadata": {},
     "output_type": "execute_result"
    }
   ],
   "source": [
    "len(mat_contents['results'][0][0][5][0])"
   ]
  },
  {
   "cell_type": "code",
   "execution_count": 33,
   "id": "1a9804ea-d193-4235-a5af-f2af3a54e575",
   "metadata": {},
   "outputs": [
    {
     "data": {
      "text/plain": [
       "array([ 90.05229743, 103.29464096,  52.5003051 ,  61.26043554,\n",
       "        58.46970686,  65.02735765,  79.35433467,  55.52923232,\n",
       "        61.65209544,  58.54636887,  58.2352045 ,  60.8580735 ,\n",
       "        78.67607821,  65.83321848,  59.1036802 ,  57.24532117,\n",
       "        52.21608709,  54.8938333 ,  91.72904187, 142.94101948,\n",
       "        55.68445476,  51.27669459,  89.81346633,  65.30896018,\n",
       "        63.86792623,  56.49889049,  53.03939731,  52.92364139,\n",
       "        51.01211255,  55.28914662,  73.11066938,  53.42862127,\n",
       "        51.27126211,  77.90314946,  64.05432084,  58.15988079,\n",
       "        58.38398366,  78.22980443,  53.9692733 ,  75.07096897,\n",
       "        49.67904216,  64.37740699,  53.99647056,  66.52730404,\n",
       "        57.03675272, 104.8808961 ,  98.8686801 ,  81.81054251,\n",
       "        77.9988954 ,  78.71568042, 104.72023719,  89.81327895,\n",
       "        64.38890702, 117.54488381, 192.31885961, 141.18895826,\n",
       "        59.55944815,  46.02413015,  91.2136864 ,  51.99716813,\n",
       "       109.6810936 ,  47.17729569,  82.47509393, 105.30087315,\n",
       "        75.94728115,  70.26537181,  41.39242041, 109.62066768,\n",
       "        90.55387352,  66.06286862,  94.73725492,  59.05819481,\n",
       "        68.29849894, 193.38895793,  51.76157928,  57.06712707,\n",
       "        56.37683219,  52.79698049,  62.81889373,  56.61440305,\n",
       "        61.12476898,  66.00866668,  59.72208364,  66.3367186 ,\n",
       "        52.2958532 ,  54.77989186,  60.21191121,  67.42176931,\n",
       "        53.67353739,  91.22551625,  66.78472415,  55.38137871,\n",
       "       114.80403327,  55.12280925,  74.59491975,  56.2578658 ,\n",
       "        60.82006663,  71.52079214, 110.63109275,  52.5218187 ,\n",
       "        64.03910019,  76.94759349,  68.89201603,  76.74739827])"
      ]
     },
     "execution_count": 33,
     "metadata": {},
     "output_type": "execute_result"
    }
   ],
   "source": [
    "mat_contents['results'][0][0][5][0]"
   ]
  },
  {
   "cell_type": "code",
   "execution_count": null,
   "id": "d00b77d2-a9b0-4fc2-a210-3c562962b248",
   "metadata": {},
   "outputs": [],
   "source": []
  },
  {
   "cell_type": "code",
   "execution_count": 34,
   "id": "3f8a1dfd-2d10-4fcf-8139-cb2d9a99a7ee",
   "metadata": {},
   "outputs": [
    {
     "name": "stdout",
     "output_type": "stream",
     "text": [
      "\n",
      "\n",
      "0\n",
      "<class 'numpy.ndarray'>\n",
      "length\n",
      "8\n",
      "('nfoot', '|O')\n",
      "\n",
      "\n",
      "1\n",
      "<class 'numpy.ndarray'>\n",
      "length\n",
      "8\n",
      "('steps_tot', '|O')\n",
      "\n",
      "\n",
      "2\n",
      "<class 'numpy.ndarray'>\n",
      "length\n",
      "104\n",
      "('WB_time', '|O')\n",
      "\n",
      "\n",
      "3\n",
      "<class 'numpy.ndarray'>\n",
      "length\n",
      "104\n",
      "('Ngait_cycles', '|O')\n",
      "\n",
      "\n",
      "4\n",
      "<class 'numpy.ndarray'>\n",
      "length\n",
      "104\n",
      "('gait_timestamps', '|O')\n",
      "\n",
      "\n",
      "5\n",
      "<class 'numpy.ndarray'>\n",
      "length\n",
      "104\n",
      "('cadence_mean', '|O')\n",
      "\n",
      "\n",
      "6\n",
      "<class 'numpy.ndarray'>\n",
      "length\n",
      "104\n",
      "('speed_mean', '|O')\n",
      "\n",
      "\n",
      "7\n",
      "<class 'numpy.ndarray'>\n",
      "length\n",
      "104\n",
      "('speed_std', '|O')\n",
      "\n",
      "\n",
      "8\n",
      "<class 'numpy.ndarray'>\n",
      "length\n",
      "104\n",
      "('slength_mean', '|O')\n",
      "\n",
      "\n",
      "9\n",
      "<class 'numpy.ndarray'>\n",
      "length\n",
      "104\n",
      "('slength_std', '|O')\n",
      "\n",
      "\n",
      "10\n",
      "<class 'numpy.ndarray'>\n",
      "length\n",
      "104\n",
      "('gtime_mean', '|O')\n",
      "\n",
      "\n",
      "11\n",
      "<class 'numpy.ndarray'>\n",
      "length\n",
      "104\n",
      "('gtime_std', '|O')\n",
      "\n",
      "\n",
      "12\n",
      "<class 'numpy.ndarray'>\n",
      "length\n",
      "104\n",
      "('speed_CV', '|O')\n",
      "\n",
      "\n",
      "13\n",
      "<class 'numpy.ndarray'>\n",
      "length\n",
      "104\n",
      "('slength_CV', '|O')\n",
      "\n",
      "\n",
      "14\n",
      "<class 'numpy.ndarray'>\n",
      "length\n",
      "104\n",
      "('gtime_CV', '|O')\n"
     ]
    }
   ],
   "source": [
    "for index in range(0, len(mat_contents['results'][0][0])):\n",
    "    print('\\n')\n",
    "    print(index)\n",
    "    print(type(mat_contents['results'][0][0][index][0]))\n",
    "    print('length')\n",
    "    print(len(mat_contents['results'][0][0][index][0]))\n",
    "    print(mat_contents['results'].dtype.descr[index])"
   ]
  },
  {
   "cell_type": "code",
   "execution_count": 35,
   "id": "0df909f5-dfca-49f8-b6ef-4f309b9eda69",
   "metadata": {},
   "outputs": [
    {
     "data": {
      "text/plain": [
       "'/app'"
      ]
     },
     "execution_count": 35,
     "metadata": {},
     "output_type": "execute_result"
    }
   ],
   "source": [
    "os.getcwd()"
   ]
  },
  {
   "cell_type": "code",
   "execution_count": 36,
   "id": "e75103bf-94e4-4f13-9201-f9d19628c506",
   "metadata": {},
   "outputs": [
    {
     "data": {
      "text/plain": [
       "86"
      ]
     },
     "execution_count": 36,
     "metadata": {},
     "output_type": "execute_result"
    }
   ],
   "source": [
    "file_list = os.listdir('Data')\n",
    "file_list_mat = [x for x in  file_list if x[-4:] == '.mat']\n",
    "len(file_list_mat)"
   ]
  },
  {
   "cell_type": "code",
   "execution_count": 37,
   "id": "d4206e51-1d10-4927-aa5e-773cc1932e8f",
   "metadata": {},
   "outputs": [
    {
     "data": {
      "text/plain": [
       "['Test_Load_Transform.ipynb',\n",
       " '.DS_Store',\n",
       " 'requirements.txt',\n",
       " 'Untitled.ipynb',\n",
       " 'Dockerfile',\n",
       " 'source',\n",
       " 'tests',\n",
       " 'load_transform_data.ipynb',\n",
       " 'docs',\n",
       " 'loading_mat_file.ipynb',\n",
       " '.ipynb_checkpoints',\n",
       " 'Data']"
      ]
     },
     "execution_count": 37,
     "metadata": {},
     "output_type": "execute_result"
    }
   ],
   "source": [
    "os.listdir()"
   ]
  },
  {
   "cell_type": "code",
   "execution_count": null,
   "id": "94e44f6b-4749-496d-88ee-016337deedff",
   "metadata": {},
   "outputs": [],
   "source": []
  },
  {
   "cell_type": "code",
   "execution_count": 38,
   "id": "eccc0176-7959-41ea-89c1-234864bb8a15",
   "metadata": {},
   "outputs": [],
   "source": [
    "os.chdir('Data')\n",
    "\n",
    "data_all = dict()\n",
    "\n",
    "for file in file_list_mat:\n",
    "    mat_contents = sio.loadmat(file)\n",
    "    data_all[file] = mat_contents"
   ]
  },
  {
   "cell_type": "code",
   "execution_count": 26,
   "id": "85396741-ba51-4537-b75a-bd4f3cea6811",
   "metadata": {},
   "outputs": [
    {
     "data": {
      "text/plain": [
       "86"
      ]
     },
     "execution_count": 26,
     "metadata": {},
     "output_type": "execute_result"
    }
   ],
   "source": [
    "len(data_all)"
   ]
  },
  {
   "cell_type": "code",
   "execution_count": 27,
   "id": "4853b5b5-4b47-4425-aa21-4cca9f5ac605",
   "metadata": {},
   "outputs": [
    {
     "data": {
      "text/plain": [
       "['Sub_01_locomotion_metrics_T2.mat',\n",
       " 'Sub_01_locomotion_metrics_T3.mat',\n",
       " 'Sub_02_locomotion_metrics_T2.mat',\n",
       " 'Sub_02_locomotion_metrics_T3.mat',\n",
       " 'Sub_03_locomotion_metrics_T2.mat',\n",
       " 'Sub_03_locomotion_metrics_T3.mat',\n",
       " 'Sub_05_locomotion_metrics_T2.mat',\n",
       " 'Sub_05_locomotion_metrics_T3.mat',\n",
       " 'Sub_06_locomotion_metrics_T2.mat',\n",
       " 'Sub_06_locomotion_metrics_T3.mat',\n",
       " 'Sub_07_locomotion_metrics_T2.mat',\n",
       " 'Sub_07_locomotion_metrics_T3.mat',\n",
       " 'Sub_08_locomotion_metrics_T2.mat',\n",
       " 'Sub_08_locomotion_metrics_T3.mat',\n",
       " 'Sub_09_locomotion_metrics_T2.mat',\n",
       " 'Sub_09_locomotion_metrics_T3.mat',\n",
       " 'Sub_10_locomotion_metrics_T2.mat',\n",
       " 'Sub_10_locomotion_metrics_T3.mat',\n",
       " 'Sub_13_locomotion_metrics_T2.mat',\n",
       " 'Sub_13_locomotion_metrics_T3.mat',\n",
       " 'Sub_14_locomotion_metrics_T2.mat',\n",
       " 'Sub_14_locomotion_metrics_T3.mat',\n",
       " 'Sub_15_locomotion_metrics_T2.mat',\n",
       " 'Sub_15_locomotion_metrics_T3.mat',\n",
       " 'Sub_16_locomotion_metrics_T2.mat',\n",
       " 'Sub_16_locomotion_metrics_T3.mat',\n",
       " 'Sub_17_locomotion_metrics_T2.mat',\n",
       " 'Sub_17_locomotion_metrics_T3.mat',\n",
       " 'Sub_18_locomotion_metrics_T2.mat',\n",
       " 'Sub_18_locomotion_metrics_T3.mat',\n",
       " 'Sub_19_locomotion_metrics_T2.mat',\n",
       " 'Sub_19_locomotion_metrics_T3.mat',\n",
       " 'Sub_20_locomotion_metrics_T2.mat',\n",
       " 'Sub_20_locomotion_metrics_T3.mat',\n",
       " 'Sub_21_locomotion_metrics_T2.mat',\n",
       " 'Sub_21_locomotion_metrics_T3.mat',\n",
       " 'Sub_22_locomotion_metrics_T2.mat',\n",
       " 'Sub_22_locomotion_metrics_T3.mat',\n",
       " 'Sub_23_locomotion_metrics_T2.mat',\n",
       " 'Sub_23_locomotion_metrics_T3.mat',\n",
       " 'Sub_25_locomotion_metrics_T2.mat',\n",
       " 'Sub_25_locomotion_metrics_T3.mat',\n",
       " 'Sub_26_locomotion_metrics_T2.mat',\n",
       " 'Sub_26_locomotion_metrics_T3.mat',\n",
       " 'Sub_27_locomotion_metrics_T2.mat',\n",
       " 'Sub_27_locomotion_metrics_T3.mat',\n",
       " 'Sub_28_locomotion_metrics_T2.mat',\n",
       " 'Sub_28_locomotion_metrics_T3.mat',\n",
       " 'Sub_30_locomotion_metrics_T2.mat',\n",
       " 'Sub_30_locomotion_metrics_T3.mat',\n",
       " 'Sub_32_locomotion_metrics_T2.mat',\n",
       " 'Sub_32_locomotion_metrics_T3.mat',\n",
       " 'Sub_33_locomotion_metrics_T2.mat',\n",
       " 'Sub_33_locomotion_metrics_T3.mat',\n",
       " 'Sub_34_locomotion_metrics_T2.mat',\n",
       " 'Sub_34_locomotion_metrics_T3.mat',\n",
       " 'Sub_35_locomotion_metrics_T2.mat',\n",
       " 'Sub_35_locomotion_metrics_T3.mat',\n",
       " 'Sub_36_locomotion_metrics_T2.mat',\n",
       " 'Sub_36_locomotion_metrics_T3.mat',\n",
       " 'Sub_37_locomotion_metrics_T2.mat',\n",
       " 'Sub_37_locomotion_metrics_T3.mat',\n",
       " 'Sub_38_locomotion_metrics_T2.mat',\n",
       " 'Sub_38_locomotion_metrics_T3.mat',\n",
       " 'Sub_39_locomotion_metrics_T2.mat',\n",
       " 'Sub_39_locomotion_metrics_T3.mat',\n",
       " 'Sub_40_locomotion_metrics_T2.mat',\n",
       " 'Sub_40_locomotion_metrics_T3.mat',\n",
       " 'Sub_42_locomotion_metrics_T2.mat',\n",
       " 'Sub_42_locomotion_metrics_T3.mat',\n",
       " 'Sub_43_locomotion_metrics_T2.mat',\n",
       " 'Sub_43_locomotion_metrics_T3.mat',\n",
       " 'Sub_44_locomotion_metrics_T2.mat',\n",
       " 'Sub_44_locomotion_metrics_T3.mat',\n",
       " 'Sub_46_locomotion_metrics_T2.mat',\n",
       " 'Sub_46_locomotion_metrics_T3.mat',\n",
       " 'Sub_47_locomotion_metrics_T2.mat',\n",
       " 'Sub_47_locomotion_metrics_T3.mat',\n",
       " 'Sub_48_locomotion_metrics_T2.mat',\n",
       " 'Sub_48_locomotion_metrics_T3.mat',\n",
       " 'Sub_49_locomotion_metrics_T2.mat',\n",
       " 'Sub_49_locomotion_metrics_T3.mat',\n",
       " 'Sub_50_locomotion_metrics_T2.mat',\n",
       " 'Sub_50_locomotion_metrics_T3.mat',\n",
       " 'Sub_52_locomotion_metrics_T2.mat',\n",
       " 'Sub_52_locomotion_metrics_T3.mat']"
      ]
     },
     "execution_count": 27,
     "metadata": {},
     "output_type": "execute_result"
    }
   ],
   "source": [
    "file_list_mat.sort()\n",
    "file_list_mat"
   ]
  },
  {
   "cell_type": "code",
   "execution_count": 28,
   "id": "b7248459-0390-496d-823b-97558348fb3b",
   "metadata": {},
   "outputs": [
    {
     "data": {
      "text/plain": [
       "dict_keys(['Sub_07_locomotion_metrics_T3.mat', 'Sub_21_locomotion_metrics_T2.mat', 'Sub_21_locomotion_metrics_T3.mat', 'Sub_07_locomotion_metrics_T2.mat', 'Sub_43_locomotion_metrics_T3.mat', 'Sub_34_locomotion_metrics_T3.mat', 'Sub_34_locomotion_metrics_T2.mat', 'Sub_43_locomotion_metrics_T2.mat', 'Sub_44_locomotion_metrics_T2.mat', 'Sub_15_locomotion_metrics_T3.mat', 'Sub_33_locomotion_metrics_T2.mat', 'Sub_33_locomotion_metrics_T3.mat', 'Sub_15_locomotion_metrics_T2.mat', 'Sub_44_locomotion_metrics_T3.mat', 'Sub_26_locomotion_metrics_T3.mat', 'Sub_08_locomotion_metrics_T3.mat', 'Sub_08_locomotion_metrics_T2.mat', 'Sub_26_locomotion_metrics_T2.mat', 'Sub_23_locomotion_metrics_T2.mat', 'Sub_05_locomotion_metrics_T3.mat', 'Sub_05_locomotion_metrics_T2.mat', 'Sub_23_locomotion_metrics_T3.mat', 'Sub_18_locomotion_metrics_T3.mat', 'Sub_49_locomotion_metrics_T2.mat', 'Sub_36_locomotion_metrics_T3.mat', 'Sub_10_locomotion_metrics_T2.mat', 'Sub_10_locomotion_metrics_T3.mat', 'Sub_36_locomotion_metrics_T2.mat', 'Sub_49_locomotion_metrics_T3.mat', 'Sub_18_locomotion_metrics_T2.mat', 'Sub_39_locomotion_metrics_T3.mat', 'Sub_17_locomotion_metrics_T3.mat', 'Sub_46_locomotion_metrics_T2.mat', 'Sub_46_locomotion_metrics_T3.mat', 'Sub_17_locomotion_metrics_T2.mat', 'Sub_39_locomotion_metrics_T2.mat', 'Sub_02_locomotion_metrics_T2.mat', 'Sub_02_locomotion_metrics_T3.mat', 'Sub_03_locomotion_metrics_T3.mat', 'Sub_25_locomotion_metrics_T2.mat', 'Sub_52_locomotion_metrics_T2.mat', 'Sub_52_locomotion_metrics_T3.mat', 'Sub_25_locomotion_metrics_T3.mat', 'Sub_03_locomotion_metrics_T2.mat', 'Sub_47_locomotion_metrics_T3.mat', 'Sub_16_locomotion_metrics_T2.mat', 'Sub_30_locomotion_metrics_T3.mat', 'Sub_38_locomotion_metrics_T2.mat', 'Sub_38_locomotion_metrics_T3.mat', 'Sub_30_locomotion_metrics_T2.mat', 'Sub_16_locomotion_metrics_T3.mat', 'Sub_47_locomotion_metrics_T2.mat', 'Sub_40_locomotion_metrics_T2.mat', 'Sub_37_locomotion_metrics_T2.mat', 'Sub_48_locomotion_metrics_T3.mat', 'Sub_19_locomotion_metrics_T2.mat', 'Sub_19_locomotion_metrics_T3.mat', 'Sub_48_locomotion_metrics_T2.mat', 'Sub_37_locomotion_metrics_T3.mat', 'Sub_40_locomotion_metrics_T3.mat', 'Sub_22_locomotion_metrics_T3.mat', 'Sub_22_locomotion_metrics_T2.mat', 'Sub_09_locomotion_metrics_T2.mat', 'Sub_50_locomotion_metrics_T2.mat', 'Sub_27_locomotion_metrics_T2.mat', 'Sub_01_locomotion_metrics_T3.mat', 'Sub_01_locomotion_metrics_T2.mat', 'Sub_27_locomotion_metrics_T3.mat', 'Sub_50_locomotion_metrics_T3.mat', 'Sub_09_locomotion_metrics_T3.mat', 'Sub_32_locomotion_metrics_T3.mat', 'Sub_14_locomotion_metrics_T2.mat', 'Sub_14_locomotion_metrics_T3.mat', 'Sub_32_locomotion_metrics_T2.mat', 'Sub_35_locomotion_metrics_T2.mat', 'Sub_13_locomotion_metrics_T3.mat', 'Sub_42_locomotion_metrics_T2.mat', 'Sub_42_locomotion_metrics_T3.mat', 'Sub_13_locomotion_metrics_T2.mat', 'Sub_35_locomotion_metrics_T3.mat', 'Sub_28_locomotion_metrics_T2.mat', 'Sub_20_locomotion_metrics_T3.mat', 'Sub_06_locomotion_metrics_T2.mat', 'Sub_06_locomotion_metrics_T3.mat', 'Sub_20_locomotion_metrics_T2.mat', 'Sub_28_locomotion_metrics_T3.mat'])"
      ]
     },
     "execution_count": 28,
     "metadata": {},
     "output_type": "execute_result"
    }
   ],
   "source": [
    "data_all.keys()"
   ]
  },
  {
   "cell_type": "code",
   "execution_count": 15,
   "id": "3a95bd3b-7276-44ac-b9b4-03a666028104",
   "metadata": {},
   "outputs": [
    {
     "data": {
      "text/plain": [
       "array([[ 74.53463096,  49.43887089,  28.89523238,  32.3066547 ,\n",
       "         29.93984892,  30.35181787,  44.19642326,  29.90726358,\n",
       "         26.40001129,  27.76033363,  27.6447679 ,  30.92535269,\n",
       "         41.37948444,  19.3054391 ,  10.80069799,  27.98542923,\n",
       "         14.33653145,  24.95644054,  20.94599185, 122.41027026,\n",
       "          0.        ,  33.24327287,  37.5503099 ,  33.80471263,\n",
       "         23.39822401,  22.99700129,  39.7866449 ,  22.775715  ,\n",
       "         28.66867164,  47.92818122,  33.66925199,  39.41823738,\n",
       "         26.69078442,  32.72482885,  24.96967621,  20.90838057,\n",
       "         26.98778346,  45.47158412,  22.50358437,  27.61281564,\n",
       "         30.32834813,  31.71021855,  26.55982608,  37.84510258,\n",
       "         20.39216425,  12.66014206,  64.1746253 ,  83.53090971,\n",
       "         38.10160084,  46.02211403,  47.57443464,  48.48273908,\n",
       "         18.9705556 ,  26.65232278,  11.03303296,  47.24095042,\n",
       "         14.73588535,  33.98398505,  50.58718342,  42.12341837,\n",
       "         36.89550457,  40.1899324 ,  65.7560745 ,  39.91892817,\n",
       "         53.59701018,  34.51467368,  34.23947566,  47.42105022,\n",
       "         52.7070219 ,  47.7689164 ,  80.97865262,  23.45692943,\n",
       "         36.79945746, 125.2654323 ,  25.23377096,  24.8466516 ,\n",
       "         23.29690787,   9.85311723,  29.83779076,  18.42170845,\n",
       "         30.02191286,  35.06020649,  15.34559486,  40.01471132,\n",
       "         14.15136882,  26.53964605,  61.55164237,  30.60612311,\n",
       "         17.2064268 ,  46.70458532,  30.84258415,  24.04181457,\n",
       "         64.56150911,  30.82383018,  36.47358636,  42.81083279,\n",
       "         25.92315765,  28.63205264,  54.15749349,  36.06683729,\n",
       "         26.24623787,  31.94364759,  46.08081653,  46.84224775]])"
      ]
     },
     "execution_count": 15,
     "metadata": {},
     "output_type": "execute_result"
    }
   ],
   "source": [
    "len(mat_contents['results'][0][0][index]"
   ]
  },
  {
   "cell_type": "code",
   "execution_count": 17,
   "id": "8e63a578-76ba-4539-accd-3ceedda0bb70",
   "metadata": {},
   "outputs": [
    {
     "data": {
      "text/plain": [
       "104"
      ]
     },
     "execution_count": 17,
     "metadata": {},
     "output_type": "execute_result"
    }
   ],
   "source": [
    "len(mat_contents['results'][0][0][index][0])"
   ]
  },
  {
   "cell_type": "code",
   "execution_count": 52,
   "id": "24c202a6-69a5-490c-8d13-59f5bb5bb0b3",
   "metadata": {},
   "outputs": [
    {
     "name": "stdout",
     "output_type": "stream",
     "text": [
      "\n",
      "\n",
      "('nfoot', '|O')\n",
      "8\n",
      "('steps_tot', '|O')\n",
      "8\n",
      "[ 522  152 1139  754  974 1028  858    6]\n",
      "162\n",
      "\n",
      "\n",
      "('nfoot', '|O')\n",
      "3\n",
      "('steps_tot', '|O')\n",
      "3\n",
      "[11674  4112  5132]\n",
      "438\n",
      "\n",
      "\n",
      "('nfoot', '|O')\n",
      "7\n",
      "('steps_tot', '|O')\n",
      "7\n",
      "[ 4022  3530  3492  4662  4474  7108 10152]\n",
      "962\n",
      "\n",
      "\n",
      "('nfoot', '|O')\n",
      "7\n",
      "('steps_tot', '|O')\n",
      "7\n",
      "[794 438 378 691 587 508 516]\n",
      "118\n",
      "\n",
      "\n",
      "('nfoot', '|O')\n",
      "7\n",
      "('steps_tot', '|O')\n",
      "7\n",
      "[1418 1683 1459  914 1263 1860 1577]\n",
      "280\n",
      "\n",
      "\n",
      "('nfoot', '|O')\n",
      "7\n",
      "('steps_tot', '|O')\n",
      "7\n",
      "[5052 2610 6038 5255 1908 3931   19]\n",
      "600\n",
      "\n",
      "\n",
      "('nfoot', '|O')\n",
      "13\n",
      "('steps_tot', '|O')\n",
      "13\n",
      "[2461 2043 2362 3782 3730 3022 4960 3332 4545 4145 2652 3980 4055]\n",
      "1213\n",
      "\n",
      "\n",
      "('nfoot', '|O')\n",
      "7\n",
      "('steps_tot', '|O')\n",
      "7\n",
      "[2283 2158 1523 2133 2270 1954  133]\n",
      "361\n"
     ]
    }
   ],
   "source": [
    "round_counter = 0\n",
    "for key, item in data_all.items():\n",
    "    print('\\n')\n",
    "    print(item['results'][0][0].dtype.descr[0])\n",
    "    print(len(item['results'][0][0][0][0]))\n",
    "    print(item['results'][0][0].dtype.descr[1])\n",
    "    print(len(item['results'][0][0][1][0]))\n",
    "    print(item['results'][0][0][1][0])\n",
    "    print(len(item['results'][0][0][3][0]))\n",
    "    round_counter += 1\n",
    "    if round_counter > 7:\n",
    "        break"
   ]
  },
  {
   "cell_type": "code",
   "execution_count": null,
   "id": "54636fc7-70ca-43bd-9bb6-1ec54c6a0663",
   "metadata": {},
   "outputs": [],
   "source": []
  },
  {
   "cell_type": "code",
   "execution_count": null,
   "id": "9b88d73e-88ad-4123-9d00-49674e6556ea",
   "metadata": {},
   "outputs": [],
   "source": []
  }
 ],
 "metadata": {
  "kernelspec": {
   "display_name": "Python 3 (ipykernel)",
   "language": "python",
   "name": "python3"
  },
  "language_info": {
   "codemirror_mode": {
    "name": "ipython",
    "version": 3
   },
   "file_extension": ".py",
   "mimetype": "text/x-python",
   "name": "python",
   "nbconvert_exporter": "python",
   "pygments_lexer": "ipython3",
   "version": "3.12.3"
  }
 },
 "nbformat": 4,
 "nbformat_minor": 5
}
