{
 "cells": [
  {
   "cell_type": "code",
   "execution_count": 1,
   "id": "d155ada6-cf33-4d96-8368-00e7c58b7120",
   "metadata": {},
   "outputs": [],
   "source": [
    "import pandas as pd\n",
    "import numpy as np\n",
    "import scipy.io as sio\n",
    "import os\n",
    "import re\n",
    "import source.load_mat_files as mat_fls"
   ]
  },
  {
   "cell_type": "markdown",
   "id": "b144338f-5cf2-4f42-acc6-2935d47aa85e",
   "metadata": {},
   "source": [
    "## Load data from .mat files and save them in csv files"
   ]
  },
  {
   "cell_type": "markdown",
   "id": "1ea39ffe-bacb-417d-b8da-cdc692bef54d",
   "metadata": {},
   "source": [
    "### Get list of files to load: "
   ]
  },
  {
   "cell_type": "code",
   "execution_count": 2,
   "id": "2af31769-348f-4373-8b16-ca96b45d2014",
   "metadata": {},
   "outputs": [
    {
     "data": {
      "text/plain": [
       "86"
      ]
     },
     "execution_count": 2,
     "metadata": {},
     "output_type": "execute_result"
    }
   ],
   "source": [
    "file_list = os.listdir('Data')\n",
    "file_list_mat = [x for x in  file_list if x[-4:] == '.mat']\n",
    "len(file_list_mat)"
   ]
  },
  {
   "cell_type": "markdown",
   "id": "7f0657b6-f3f0-4a4e-8a78-4c12dc6a93c2",
   "metadata": {},
   "source": [
    "### Load all files into a dictionary: "
   ]
  },
  {
   "cell_type": "code",
   "execution_count": 3,
   "id": "17e603af-c943-4474-b7a0-53b28f0bbf94",
   "metadata": {},
   "outputs": [],
   "source": [
    "os.chdir('Data')\n",
    "\n",
    "data_all = dict()\n",
    "\n",
    "for file in file_list_mat:\n",
    "    mat_contents = sio.loadmat(file)\n",
    "    data_all[file] = mat_contents"
   ]
  },
  {
   "cell_type": "markdown",
   "id": "0d7374b1-5078-4795-bbf6-69ed529e1c7e",
   "metadata": {},
   "source": [
    "### Sort file names in list alpha-numerically:"
   ]
  },
  {
   "cell_type": "code",
   "execution_count": 4,
   "id": "90e25a51-72c7-4fa2-8d60-9428a8a1304c",
   "metadata": {},
   "outputs": [],
   "source": [
    "file_list_mat.sort()\n",
    "#file_list_mat"
   ]
  },
  {
   "cell_type": "code",
   "execution_count": null,
   "id": "3bc46a26-1682-49e7-aba4-0816d60246c4",
   "metadata": {},
   "outputs": [],
   "source": []
  },
  {
   "cell_type": "markdown",
   "id": "42c9adcf-dc47-4a3c-a42e-34eb8580ae6b",
   "metadata": {},
   "source": [
    "### Select the variables to load: "
   ]
  },
  {
   "cell_type": "code",
   "execution_count": 5,
   "id": "3f8d8f83-5f45-497f-af2c-4c22276d5619",
   "metadata": {},
   "outputs": [],
   "source": [
    "num_elements = len(data_all[file_list_mat[0]]['results'].dtype.descr)\n",
    "\n",
    "variables_all = []\n",
    "for index in range(0, num_elements):\n",
    "    variable_name = data_all[file_list_mat[0]]['results'].dtype.descr[index][0]\n",
    "    variables_all.append(variable_name)\n"
   ]
  },
  {
   "cell_type": "code",
   "execution_count": 6,
   "id": "62f1c22f-7009-4696-8269-87dc4c3b3c23",
   "metadata": {},
   "outputs": [],
   "source": [
    "variables_to_add = variables_all.copy()"
   ]
  },
  {
   "cell_type": "markdown",
   "id": "d2d74957-e638-4ab5-aa3f-3256f3db4b7c",
   "metadata": {},
   "source": [
    "#### Remove variables that I don't know what they refer to:"
   ]
  },
  {
   "cell_type": "code",
   "execution_count": 7,
   "id": "98eda514-f286-4235-b1f2-f272501cd47a",
   "metadata": {},
   "outputs": [],
   "source": [
    "variables_to_add.remove('nfoot')\n",
    "variables_to_add.remove('steps_tot')"
   ]
  },
  {
   "cell_type": "markdown",
   "id": "4462db9a-16e0-4282-9d26-f9e0cb4a6880",
   "metadata": {},
   "source": [
    "### Loop through dictionary and stack data in pandas dataframe:"
   ]
  },
  {
   "cell_type": "code",
   "execution_count": 8,
   "id": "1b53ed46-8c62-45d2-a470-eadcac991e19",
   "metadata": {},
   "outputs": [],
   "source": [
    "round_counter = 0\n",
    "list_of_frames = []\n",
    "\n",
    "for file_name, data_item in data_all.items():\n",
    "\n",
    "    data_frame_to_stack = mat_fls.identify_get_timestamps(file_name, data_item)\n",
    "\n",
    "    for variable_name in variables_to_add:\n",
    "        data_frame_to_stack = mat_fls.identify_get_variable(file_name, variable_name,\n",
    "                                                data_item, data_frame_to_stack)\n",
    "    list_of_frames.append(data_frame_to_stack)\n"
   ]
  },
  {
   "cell_type": "code",
   "execution_count": 9,
   "id": "e85a752c-92f1-421a-baf7-37a9a4b1a9ec",
   "metadata": {},
   "outputs": [],
   "source": [
    "data_wide = pd.concat(list_of_frames)"
   ]
  },
  {
   "cell_type": "code",
   "execution_count": 10,
   "id": "c2352fbc-8bd7-41fa-8e09-89b3ee30f873",
   "metadata": {},
   "outputs": [
    {
     "data": {
      "text/plain": [
       "'/app/Data'"
      ]
     },
     "execution_count": 10,
     "metadata": {},
     "output_type": "execute_result"
    }
   ],
   "source": [
    "os.getcwd()"
   ]
  },
  {
   "cell_type": "markdown",
   "id": "51d69432-f78d-43c2-af4a-2b7b8a4c9338",
   "metadata": {},
   "source": [
    "### Save wide format dataframe as csv-file:"
   ]
  },
  {
   "cell_type": "code",
   "execution_count": 11,
   "id": "b8b8cb75-4176-48f4-bbff-046729f8a5af",
   "metadata": {},
   "outputs": [],
   "source": [
    "data_wide.to_csv('data_table_wide.csv', sep=',')"
   ]
  },
  {
   "cell_type": "code",
   "execution_count": 12,
   "id": "d44f9ea5-a04d-4a27-b37d-985f62de147b",
   "metadata": {},
   "outputs": [],
   "source": [
    "data_wide_copy = data_wide.copy()"
   ]
  },
  {
   "cell_type": "markdown",
   "id": "aaafd51b-3d6f-4ed9-8c18-0c81dde8ee3e",
   "metadata": {},
   "source": [
    "### Unpivot dataframe (to long format):"
   ]
  },
  {
   "cell_type": "code",
   "execution_count": 13,
   "id": "133e0ab0-ca7c-443e-afcb-fb5829b1f008",
   "metadata": {},
   "outputs": [
    {
     "data": {
      "text/plain": [
       "3"
      ]
     },
     "execution_count": 13,
     "metadata": {},
     "output_type": "execute_result"
    }
   ],
   "source": [
    "col_list = list(data_wide_copy.columns)\n",
    "col_list.index('morning_afternoon')"
   ]
  },
  {
   "cell_type": "markdown",
   "id": "0e362807-600e-434b-89d5-a7a5396c6d02",
   "metadata": {},
   "source": [
    "#### Separate id-columsn from variable columns:"
   ]
  },
  {
   "cell_type": "code",
   "execution_count": 15,
   "id": "76f7c12c-0a9f-4905-a330-8aff85dc895c",
   "metadata": {},
   "outputs": [
    {
     "name": "stdout",
     "output_type": "stream",
     "text": [
      "Index(['subject', 'time_stamps', 'time_stamps_hours', 'morning_afternoon'], dtype='object')\n",
      "Index(['WB_time', 'Ngait_cycles', 'gait_timestamps', 'cadence_mean',\n",
      "       'speed_mean', 'speed_std', 'slength_mean', 'slength_std', 'gtime_mean',\n",
      "       'gtime_std', 'speed_CV', 'slength_CV', 'gtime_CV'],\n",
      "      dtype='object')\n"
     ]
    }
   ],
   "source": [
    "id_columns = data_wide_copy.columns[0:4]\n",
    "value_columns = data_wide_copy.columns[4:]\n",
    "print(id_columns)\n",
    "print(value_columns)"
   ]
  },
  {
   "cell_type": "markdown",
   "id": "19d10233-cfa2-4361-8a8e-b51950e2fbe5",
   "metadata": {},
   "source": [
    "#### Save data:"
   ]
  },
  {
   "cell_type": "code",
   "execution_count": 16,
   "id": "444e92c9-a79f-43e2-9674-97cb8bca252d",
   "metadata": {},
   "outputs": [],
   "source": [
    "data_long = data_wide_copy.melt(id_vars=id_columns, value_vars=value_columns,\n",
    "                    var_name='variable', value_name='value')"
   ]
  },
  {
   "cell_type": "markdown",
   "id": "d6ed2deb-9843-4e4c-b551-be57a34462ae",
   "metadata": {},
   "source": [
    "### Save long format dataframe as csv:"
   ]
  },
  {
   "cell_type": "code",
   "execution_count": 17,
   "id": "4b758e09-142e-4aea-9ec9-03efb4ac3ea9",
   "metadata": {},
   "outputs": [],
   "source": [
    "data_long.to_csv('data_table_long.csv', sep=',')"
   ]
  },
  {
   "cell_type": "code",
   "execution_count": null,
   "id": "05845edb-85e1-4540-9de1-975568a813e5",
   "metadata": {},
   "outputs": [],
   "source": []
  },
  {
   "cell_type": "code",
   "execution_count": null,
   "id": "2baa801f-de81-48fe-a89f-07ada2ef00ee",
   "metadata": {},
   "outputs": [],
   "source": []
  },
  {
   "cell_type": "code",
   "execution_count": null,
   "id": "4cf6a8d6-deef-4488-8c6e-6d4b56786710",
   "metadata": {},
   "outputs": [],
   "source": []
  },
  {
   "cell_type": "code",
   "execution_count": null,
   "id": "08162498-ea26-4451-aa9a-4ebd6023736b",
   "metadata": {},
   "outputs": [],
   "source": []
  },
  {
   "cell_type": "code",
   "execution_count": null,
   "id": "d951f8d6-85df-4db5-98fc-174e717eb0ae",
   "metadata": {},
   "outputs": [],
   "source": []
  },
  {
   "cell_type": "code",
   "execution_count": null,
   "id": "2f6b5556-1da9-4c60-a0ca-60ed5a73a652",
   "metadata": {},
   "outputs": [],
   "source": []
  },
  {
   "cell_type": "code",
   "execution_count": null,
   "id": "b6f39168-57a1-4936-9b42-b41d279f27ea",
   "metadata": {},
   "outputs": [],
   "source": []
  },
  {
   "cell_type": "code",
   "execution_count": null,
   "id": "c69fb80c-8741-4704-931b-94550edd4f02",
   "metadata": {},
   "outputs": [],
   "source": []
  },
  {
   "cell_type": "code",
   "execution_count": null,
   "id": "0077ba0e-d2ac-4433-b4e7-38b9d9a2bade",
   "metadata": {},
   "outputs": [],
   "source": []
  }
 ],
 "metadata": {
  "kernelspec": {
   "display_name": "Python 3 (ipykernel)",
   "language": "python",
   "name": "python3"
  },
  "language_info": {
   "codemirror_mode": {
    "name": "ipython",
    "version": 3
   },
   "file_extension": ".py",
   "mimetype": "text/x-python",
   "name": "python",
   "nbconvert_exporter": "python",
   "pygments_lexer": "ipython3",
   "version": "3.12.3"
  }
 },
 "nbformat": 4,
 "nbformat_minor": 5
}
